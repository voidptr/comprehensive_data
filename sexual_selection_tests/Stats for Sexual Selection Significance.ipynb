{
 "cells": [
  {
   "cell_type": "markdown",
   "metadata": {},
   "source": [
    "# Gene Flow Stats"
   ]
  },
  {
   "cell_type": "code",
   "execution_count": 107,
   "metadata": {
    "collapsed": false
   },
   "outputs": [],
   "source": [
    "import pandas as pd\n",
    "import numpy as np\n",
    "from scipy import stats\n",
    "import statsmodels.api as sm\n",
    "import matplotlib.pyplot as plt\n",
    "from math import sqrt\n",
    "\n",
    "# Set some Pandas options\n",
    "pd.set_option('display.notebook_repr_html', False)\n",
    "pd.set_option('display.max_columns', 20)\n",
    "pd.set_option('display.max_rows', 25)\n"
   ]
  },
  {
   "cell_type": "code",
   "execution_count": 13,
   "metadata": {
    "collapsed": true
   },
   "outputs": [],
   "source": [
    "%matplotlib inline"
   ]
  },
  {
   "cell_type": "code",
   "execution_count": 3,
   "metadata": {
    "collapsed": true
   },
   "outputs": [],
   "source": [
    "ctrl = pd.read_csv(\"Ctrl_sum_matings_ratio_gen1.dat\")\n",
    "scenA = pd.read_csv(\"ScenA_sum_matings_ratio_gen1.dat\")\n",
    "scenB = pd.read_csv(\"ScenB_sum_matings_ratio_gen1.dat\")\n",
    "scenC = pd.read_csv(\"ScenC_sum_matings_ratio_gen1.dat\")\n",
    "scenD = pd.read_csv(\"ScenD_sum_matings_ratio_gen1.dat\")\n",
    "scenE = pd.read_csv(\"ScenE_sum_matings_ratio_gen1.dat\")"
   ]
  },
  {
   "cell_type": "code",
   "execution_count": 4,
   "metadata": {
    "collapsed": false,
    "scrolled": false
   },
   "outputs": [
    {
     "name": "stdout",
     "output_type": "stream",
     "text": [
      "6.53932044362\n",
      "6.17989868275e-11\n",
      "reject null of sameness (different)\n"
     ]
    }
   ],
   "source": [
    "z_stat, p_val = stats.ranksums(ctrl, scenA)  \n",
    "print z_stat\n",
    "print p_val\n",
    "if p_val < (0.05/5): #bonferroni\n",
    "    print \"reject null of sameness (different)\"\n",
    "else:\n",
    "    print \"can't reject null of sameness\""
   ]
  },
  {
   "cell_type": "code",
   "execution_count": 5,
   "metadata": {
    "collapsed": false
   },
   "outputs": [
    {
     "name": "stdout",
     "output_type": "stream",
     "text": [
      "6.48074069841\n",
      "9.12734179929e-11\n",
      "reject null of sameness (different)\n"
     ]
    }
   ],
   "source": [
    "z_stat, p_val = stats.ranksums(ctrl, scenB)  \n",
    "print z_stat\n",
    "print p_val\n",
    "if p_val < (0.05/5): #bonferroni\n",
    "    print \"reject null of sameness (different)\"\n",
    "else:\n",
    "    print \"can't reject null of sameness\""
   ]
  },
  {
   "cell_type": "code",
   "execution_count": 6,
   "metadata": {
    "collapsed": false
   },
   "outputs": [
    {
     "name": "stdout",
     "output_type": "stream",
     "text": [
      "6.03379306403\n",
      "1.60155132392e-09\n",
      "reject null of sameness (different)\n"
     ]
    }
   ],
   "source": [
    "z_stat, p_val = stats.ranksums(ctrl, scenC)  \n",
    "print z_stat\n",
    "print p_val\n",
    "if p_val < (0.05/5): #bonferroni\n",
    "    print \"reject null of sameness (different)\"\n",
    "else:\n",
    "    print \"can't reject null of sameness\""
   ]
  },
  {
   "cell_type": "code",
   "execution_count": 7,
   "metadata": {
    "collapsed": false
   },
   "outputs": [
    {
     "name": "stdout",
     "output_type": "stream",
     "text": [
      "6.19719190674\n",
      "5.74794027186e-10\n",
      "reject null of sameness (different)\n"
     ]
    }
   ],
   "source": [
    "z_stat, p_val = stats.ranksums(ctrl, scenD)  \n",
    "print z_stat\n",
    "print p_val\n",
    "if p_val < (0.05/5): #bonferroni\n",
    "    print \"reject null of sameness (different)\"\n",
    "else:\n",
    "    print \"can't reject null of sameness\""
   ]
  },
  {
   "cell_type": "code",
   "execution_count": 8,
   "metadata": {
    "collapsed": false
   },
   "outputs": [
    {
     "name": "stdout",
     "output_type": "stream",
     "text": [
      "6.44881586738\n",
      "1.12727418461e-10\n",
      "reject null of sameness (different)\n"
     ]
    }
   ],
   "source": [
    "z_stat, p_val = stats.ranksums(ctrl, scenE)  \n",
    "print z_stat\n",
    "print p_val\n",
    "if p_val < (0.05/5): #bonferroni\n",
    "    print \"reject null of sameness (different)\"\n",
    "else:\n",
    "    print \"can't reject null of sameness\""
   ]
  },
  {
   "cell_type": "code",
   "execution_count": 9,
   "metadata": {
    "collapsed": false
   },
   "outputs": [
    {
     "name": "stdout",
     "output_type": "stream",
     "text": [
      "[ 55.29619626]\n",
      "[  1.57688100e-33]\n",
      "reject null of sameness (different)\n"
     ]
    }
   ],
   "source": [
    "f_stat, p_val = stats.f_oneway(ctrl, scenA, scenB, scenC, scenD, scenE)\n",
    "print f_stat\n",
    "print p_val\n",
    "\n",
    "if p_val < (0.05/5): #bonferroni\n",
    "    print \"reject null of sameness (different)\"\n",
    "else:\n",
    "    print \"can't reject null of sameness\""
   ]
  },
  {
   "cell_type": "code",
   "execution_count": 10,
   "metadata": {
    "collapsed": false
   },
   "outputs": [
    {
     "name": "stdout",
     "output_type": "stream",
     "text": [
      "[ 2.90655202]\n",
      "[ 0.02399774]\n",
      "can't reject null of sameness\n"
     ]
    }
   ],
   "source": [
    "f_stat, p_val = stats.f_oneway(scenA, scenB, scenC, scenD, scenE)\n",
    "print f_stat\n",
    "print p_val \n",
    "if p_val < (0.05/5): #bonferroni\n",
    "    print \"reject null of sameness (different)\"\n",
    "else:\n",
    "    print \"can't reject null of sameness\""
   ]
  },
  {
   "cell_type": "markdown",
   "metadata": {},
   "source": [
    "## Fitness and Viability Stats"
   ]
  },
  {
   "cell_type": "code",
   "execution_count": 14,
   "metadata": {
    "collapsed": true
   },
   "outputs": [],
   "source": [
    "import scipy  \n",
    "from scipy import stats\n",
    "import scikits.bootstrap as bootstrap "
   ]
  },
  {
   "cell_type": "code",
   "execution_count": 18,
   "metadata": {
    "collapsed": false
   },
   "outputs": [
    {
     "name": "stdout",
     "output_type": "stream",
     "text": [
      "ScenA_recombinant_fitness.csv  ScenD_Drift_recombinant_fitness.csv\r\n",
      "ScenB_recombinant_fitness.csv  ScenE_recombinant_fitness.csv\r\n",
      "ScenC_recombinant_fitness.csv\r\n"
     ]
    }
   ],
   "source": [
    "%ls *fitness*\n"
   ]
  },
  {
   "cell_type": "code",
   "execution_count": 21,
   "metadata": {
    "collapsed": false
   },
   "outputs": [
    {
     "name": "stdout",
     "output_type": "stream",
     "text": [
      "ScenA_recombinant_viability.csv  ScenD_Drift_recombinant_viability.csv\r\n",
      "ScenB_recombinant_viability.csv  ScenE_recombinant_viability.csv\r\n",
      "ScenC_recombinant_viability.csv  recomb_viab.sh\r\n"
     ]
    }
   ],
   "source": [
    "%ls *viab*"
   ]
  },
  {
   "cell_type": "code",
   "execution_count": 39,
   "metadata": {
    "collapsed": false
   },
   "outputs": [],
   "source": [
    "recomb_header = [\"BatchA\", \n",
    "\"BatchB\",\n",
    "\"BatchA_Sampled\", \n",
    "\"BatchB_Sampled\", \n",
    "\"Recombination\", \n",
    "\"BatchA_Sampled_Viable\",\n",
    "\"BatchB_Sampled_Viable\",\n",
    "\"Recombination__Viable\",\n",
    "\"BatchA_Sampled1\", \n",
    "\"BatchA_Sampled2\", \n",
    "\"RecombinationAA\", \n",
    "\"BatchA_Sampled1_Viable\", \n",
    "\"BatchA_Sampled2_Viable\", \n",
    "\"RecombinationAA_Viable\", \n",
    "\"BatchB_Sampled1\", \n",
    "\"BatchB_Sampled2\", \n",
    "\"RecombinationBB\", \n",
    "\"BatchB_Sampled1_Viable\", \n",
    "\"BatchB_Sampled2_Viable\", \n",
    "\"RecombinationBB_Viable\"] \n",
    "\n",
    "\n",
    "scenA_fitness = pd.read_csv(\"ScenA_recombinant_fitness.csv\", names=recomb_header)\n",
    "scenB_fitness = pd.read_csv(\"ScenB_recombinant_fitness.csv\", names=recomb_header)\n",
    "scenC_fitness = pd.read_csv(\"ScenC_recombinant_fitness.csv\", names=recomb_header)\n",
    "scenD_fitness = pd.read_csv(\"ScenD_Drift_recombinant_fitness.csv\", names=recomb_header)\n",
    "scenE_fitness = pd.read_csv(\"ScenE_recombinant_fitness.csv\", names=recomb_header)"
   ]
  },
  {
   "cell_type": "code",
   "execution_count": 43,
   "metadata": {
    "collapsed": false
   },
   "outputs": [
    {
     "data": {
      "text/plain": [
       "[0.24344313333333334,\n",
       " 0.25240540000000006,\n",
       " 0.25389450000000002,\n",
       " 0.014073633333333335,\n",
       " 0.019210099999999869,\n",
       " 0.022036666666666677]"
      ]
     },
     "execution_count": 43,
     "metadata": {},
     "output_type": "execute_result"
    }
   ],
   "source": [
    "A_AB_ci = bootstrap.ci(data=scenA_fitness['Recombination'], statfunction=scipy.mean, n_samples=10000)\n",
    "A_AA_ci = bootstrap.ci(data=scenA_fitness['RecombinationAA'], statfunction=scipy.mean, n_samples=10000)\n",
    "A_BB_ci = bootstrap.ci(data=scenA_fitness['RecombinationBB'], statfunction=scipy.mean, n_samples=10000)\n",
    "A_vals = [scenA_fitness['Recombination'].mean(), \n",
    "              scenA_fitness['RecombinationAA'].mean(), \n",
    "              scenA_fitness['RecombinationBB'].mean(),\n",
    "              A_AB_ci[1]-A_AB_ci[0], \n",
    "              A_AA_ci[1]-A_AA_ci[0], \n",
    "              A_BB_ci[1]-A_BB_ci[0]]\n",
    "A_vals"
   ]
  },
  {
   "cell_type": "code",
   "execution_count": 44,
   "metadata": {
    "collapsed": false
   },
   "outputs": [
    {
     "data": {
      "text/plain": [
       "[0.23894365517241378,\n",
       " 0.26203679310344835,\n",
       " 0.2483525172413793,\n",
       " 0.012897793103448296,\n",
       " 0.025264034482758657,\n",
       " 0.023957896551724117]"
      ]
     },
     "execution_count": 44,
     "metadata": {},
     "output_type": "execute_result"
    }
   ],
   "source": [
    "B_AB_ci = bootstrap.ci(data=scenB_fitness['Recombination'], statfunction=scipy.mean, n_samples=10000)\n",
    "B_AA_ci = bootstrap.ci(data=scenB_fitness['RecombinationAA'], statfunction=scipy.mean, n_samples=10000)\n",
    "B_BB_ci = bootstrap.ci(data=scenB_fitness['RecombinationBB'], statfunction=scipy.mean, n_samples=10000)\n",
    "B_vals = [scenB_fitness['Recombination'].mean(), \n",
    "              scenB_fitness['RecombinationAA'].mean(), \n",
    "              scenB_fitness['RecombinationBB'].mean(),\n",
    "              B_AB_ci[1]-B_AB_ci[0], \n",
    "              B_AA_ci[1]-B_AA_ci[0], \n",
    "              B_BB_ci[1]-B_BB_ci[0]]\n",
    "B_vals"
   ]
  },
  {
   "cell_type": "code",
   "execution_count": 46,
   "metadata": {
    "collapsed": false
   },
   "outputs": [
    {
     "data": {
      "text/plain": [
       "[0.24790913793103447,\n",
       " 0.26378517241379312,\n",
       " 0.26660251724137934,\n",
       " 0.01622824137931031,\n",
       " 0.02091103448275855,\n",
       " 0.023812379310344856]"
      ]
     },
     "execution_count": 46,
     "metadata": {},
     "output_type": "execute_result"
    }
   ],
   "source": [
    "C_AB_ci = bootstrap.ci(data=scenC_fitness['Recombination'], statfunction=scipy.mean, n_samples=10000)\n",
    "C_AA_ci = bootstrap.ci(data=scenC_fitness['RecombinationAA'], statfunction=scipy.mean, n_samples=10000)\n",
    "C_BB_ci = bootstrap.ci(data=scenC_fitness['RecombinationBB'], statfunction=scipy.mean, n_samples=10000)\n",
    "C_vals = [scenC_fitness['Recombination'].mean(), \n",
    "              scenC_fitness['RecombinationAA'].mean(), \n",
    "              scenC_fitness['RecombinationBB'].mean(),\n",
    "              C_AB_ci[1]-C_AB_ci[0], \n",
    "              C_AA_ci[1]-C_AA_ci[0], \n",
    "              C_BB_ci[1]-C_BB_ci[0]]\n",
    "C_vals"
   ]
  },
  {
   "cell_type": "code",
   "execution_count": 47,
   "metadata": {
    "collapsed": false
   },
   "outputs": [
    {
     "data": {
      "text/plain": [
       "[0.24278299999999994,\n",
       " 0.24948136666666665,\n",
       " 0.25831013333333336,\n",
       " 0.013703800000000071,\n",
       " 0.01716970000000001,\n",
       " 0.027272533333333321]"
      ]
     },
     "execution_count": 47,
     "metadata": {},
     "output_type": "execute_result"
    }
   ],
   "source": [
    "D_AB_ci = bootstrap.ci(data=scenD_fitness['Recombination'], statfunction=scipy.mean, n_samples=10000)\n",
    "D_AA_ci = bootstrap.ci(data=scenD_fitness['RecombinationAA'], statfunction=scipy.mean, n_samples=10000)\n",
    "D_BB_ci = bootstrap.ci(data=scenD_fitness['RecombinationBB'], statfunction=scipy.mean, n_samples=10000)\n",
    "D_vals = [scenD_fitness['Recombination'].mean(), \n",
    "              scenD_fitness['RecombinationAA'].mean(), \n",
    "              scenD_fitness['RecombinationBB'].mean(),\n",
    "              D_AB_ci[1]-D_AB_ci[0], \n",
    "              D_AA_ci[1]-D_AA_ci[0], \n",
    "              D_BB_ci[1]-D_BB_ci[0]]\n",
    "D_vals"
   ]
  },
  {
   "cell_type": "code",
   "execution_count": 48,
   "metadata": {
    "collapsed": false,
    "scrolled": true
   },
   "outputs": [
    {
     "data": {
      "text/plain": [
       "[0.24251813793103449,\n",
       " 0.25888210344827589,\n",
       " 0.26457558620689658,\n",
       " 0.020631068965517224,\n",
       " 0.021565034482758594,\n",
       " 0.027247586206896601]"
      ]
     },
     "execution_count": 48,
     "metadata": {},
     "output_type": "execute_result"
    }
   ],
   "source": [
    "E_AB_ci = bootstrap.ci(data=scenE_fitness['Recombination'], statfunction=scipy.mean, n_samples=10000)\n",
    "E_AA_ci = bootstrap.ci(data=scenE_fitness['RecombinationAA'], statfunction=scipy.mean, n_samples=10000)\n",
    "E_BB_ci = bootstrap.ci(data=scenE_fitness['RecombinationBB'], statfunction=scipy.mean, n_samples=10000)\n",
    "E_vals = [scenE_fitness['Recombination'].mean(), \n",
    "              scenE_fitness['RecombinationAA'].mean(), \n",
    "              scenE_fitness['RecombinationBB'].mean(),\n",
    "              E_AB_ci[1]-E_AB_ci[0], \n",
    "              E_AA_ci[1]-E_AA_ci[0], \n",
    "              E_BB_ci[1]-E_BB_ci[0]]\n",
    "E_vals"
   ]
  },
  {
   "cell_type": "code",
   "execution_count": 56,
   "metadata": {
    "collapsed": false
   },
   "outputs": [
    {
     "data": {
      "image/png": "[encoded data removed]",
      "text/plain": [
       "<matplotlib.figure.Figure at 0x7f29383dca90>"
      ]
     },
     "metadata": {},
     "output_type": "display_data"
    }
   ],
   "source": [
    "sectioned_fitness = pd.DataFrame([D_vals, A_vals, B_vals, C_vals, E_vals], \n",
    "                        columns = ['Hybrid', 'In-Group AA', 'In-Group BB', 'AB_err', 'AA_err', 'BB_err'],\n",
    "                        index = ['Drift', 'A', 'B', 'C', 'E'])\n",
    "ax = sectioned_fitness[['Hybrid', 'In-Group AA', 'In-Group BB']].plot(kind='bar', \n",
    "                                                       yerr=sectioned_fitness[['AB_err','AA_err', 'BB_err']].values.T,\n",
    "                                                       alpha = 0.5,\n",
    "                                                       #ylim=[0,12],\n",
    "                                                        rot=0,\n",
    "                                                        title=\"Forced Mating Offspring Fitness\",\n",
    "                                                       error_kw=dict(ecolor='k'))\n",
    "ax.set_xlabel(\"Treatments\")\n",
    "ax.set_ylabel(\"Fitness\")\n",
    "fig = ax.get_figure()\n",
    "fig.savefig(\"recombination_fitness.png\")"
   ]
  },
  {
   "cell_type": "code",
   "execution_count": 83,
   "metadata": {
    "collapsed": false
   },
   "outputs": [
    {
     "name": "stdout",
     "output_type": "stream",
     "text": [
      "-0.561808165925\n",
      "0.574246727832\n",
      "can't reject null of sameness\n"
     ]
    }
   ],
   "source": [
    "z_stat, p_val = stats.ranksums(scenA_fitness['Recombination'], scenA_fitness['RecombinationAA'])  \n",
    "print z_stat\n",
    "print p_val\n",
    "if p_val < (0.05/2): #bonferroni\n",
    "    print \"reject null of sameness (different)\"\n",
    "else:\n",
    "    print \"can't reject null of sameness\""
   ]
  },
  {
   "cell_type": "code",
   "execution_count": 84,
   "metadata": {
    "collapsed": false
   },
   "outputs": [
    {
     "name": "stdout",
     "output_type": "stream",
     "text": [
      "-0.739221270955\n",
      "0.459772646549\n",
      "can't reject null of sameness\n"
     ]
    }
   ],
   "source": [
    "z_stat, p_val = stats.ranksums(scenA_fitness['Recombination'], scenA_fitness['RecombinationBB'])  \n",
    "print z_stat\n",
    "print p_val\n",
    "if p_val < (0.05/2): #bonferroni\n",
    "    print \"reject null of sameness (different)\"\n",
    "else:\n",
    "    print \"can't reject null of sameness\""
   ]
  },
  {
   "cell_type": "code",
   "execution_count": 85,
   "metadata": {
    "collapsed": false
   },
   "outputs": [
    {
     "name": "stdout",
     "output_type": "stream",
     "text": [
      "1.37704390383\n",
      "0.257767500505\n",
      "can't reject null of sameness\n"
     ]
    }
   ],
   "source": [
    "f_stat, p_val = stats.f_oneway(scenA_fitness['Recombination'], \n",
    "                               scenA_fitness['RecombinationAA'], \n",
    "                               scenA_fitness['RecombinationBB'])\n",
    "print f_stat\n",
    "print p_val\n",
    "\n",
    "if p_val < (0.05/3): #bonferroni\n",
    "    print \"reject null of sameness (different)\"\n",
    "else:\n",
    "    print \"can't reject null of sameness\""
   ]
  },
  {
   "cell_type": "code",
   "execution_count": 86,
   "metadata": {
    "collapsed": false
   },
   "outputs": [
    {
     "name": "stdout",
     "output_type": "stream",
     "text": [
      "4.4054388864\n",
      "0.0151557366601\n",
      "reject null of sameness (different)\n"
     ]
    }
   ],
   "source": [
    "f_stat, p_val = stats.f_oneway(scenB_fitness['Recombination'], \n",
    "                               scenB_fitness['RecombinationAA'], \n",
    "                               scenB_fitness['RecombinationBB'])\n",
    "print f_stat\n",
    "print p_val\n",
    "\n",
    "if p_val < (0.05/3): #bonferroni\n",
    "    print \"reject null of sameness (different)\"\n",
    "else:\n",
    "    print \"can't reject null of sameness\""
   ]
  },
  {
   "cell_type": "code",
   "execution_count": 139,
   "metadata": {
    "collapsed": false
   },
   "outputs": [
    {
     "name": "stdout",
     "output_type": "stream",
     "text": [
      "-2.55818837806\n",
      "0.0105219076842\n",
      "reject null of sameness (different)\n"
     ]
    }
   ],
   "source": [
    "z_stat, p_val = stats.ranksums(scenB_fitness['Recombination'], scenB_fitness['RecombinationAA'])  \n",
    "print z_stat\n",
    "print p_val\n",
    "if p_val < (0.05/2): #bonferroni\n",
    "    print \"reject null of sameness (different)\"\n",
    "else:\n",
    "    print \"can't reject null of sameness\""
   ]
  },
  {
   "cell_type": "code",
   "execution_count": 140,
   "metadata": {
    "collapsed": false
   },
   "outputs": [
    {
     "name": "stdout",
     "output_type": "stream",
     "text": [
      "0.00777564856555\n",
      "0.993795992576\n",
      "can't reject null of sameness\n"
     ]
    }
   ],
   "source": [
    "z_stat, p_val = stats.ranksums(scenB_fitness['Recombination'], scenB_fitness['RecombinationBB'])  \n",
    "print z_stat\n",
    "print p_val\n",
    "if p_val < (0.05/2): #bonferroni\n",
    "    print \"reject null of sameness (different)\"\n",
    "else:\n",
    "    print \"can't reject null of sameness\""
   ]
  },
  {
   "cell_type": "code",
   "execution_count": 87,
   "metadata": {
    "collapsed": false
   },
   "outputs": [
    {
     "name": "stdout",
     "output_type": "stream",
     "text": [
      "3.56799272944\n",
      "0.03256525378\n",
      "can't reject null of sameness\n"
     ]
    }
   ],
   "source": [
    "f_stat, p_val = stats.f_oneway(scenC_fitness['Recombination'], \n",
    "                               scenC_fitness['RecombinationAA'], \n",
    "                               scenC_fitness['RecombinationBB'])\n",
    "print f_stat\n",
    "print p_val\n",
    "\n",
    "if p_val < (0.05/3): #bonferroni\n",
    "    print \"reject null of sameness (different)\"\n",
    "else:\n",
    "    print \"can't reject null of sameness\""
   ]
  },
  {
   "cell_type": "code",
   "execution_count": 88,
   "metadata": {
    "collapsed": false
   },
   "outputs": [
    {
     "name": "stdout",
     "output_type": "stream",
     "text": [
      "2.28397231807\n",
      "0.107955983616\n",
      "can't reject null of sameness\n"
     ]
    }
   ],
   "source": [
    "f_stat, p_val = stats.f_oneway(scenD_fitness['Recombination'], \n",
    "                               scenD_fitness['RecombinationAA'], \n",
    "                               scenD_fitness['RecombinationBB'])\n",
    "print f_stat\n",
    "print p_val\n",
    "\n",
    "if p_val < (0.05/3): #bonferroni\n",
    "    print \"reject null of sameness (different)\"\n",
    "else:\n",
    "    print \"can't reject null of sameness\""
   ]
  },
  {
   "cell_type": "code",
   "execution_count": 89,
   "metadata": {
    "collapsed": false
   },
   "outputs": [
    {
     "name": "stdout",
     "output_type": "stream",
     "text": [
      "3.58947634402\n",
      "0.0319269063235\n",
      "can't reject null of sameness\n"
     ]
    }
   ],
   "source": [
    "f_stat, p_val = stats.f_oneway(scenE_fitness['Recombination'], \n",
    "                               scenE_fitness['RecombinationAA'], \n",
    "                               scenE_fitness['RecombinationBB'])\n",
    "print f_stat\n",
    "print p_val\n",
    "\n",
    "if p_val < (0.05/3): #bonferroni\n",
    "    print \"reject null of sameness (different)\"\n",
    "else:\n",
    "    print \"can't reject null of sameness\""
   ]
  },
  {
   "cell_type": "code",
   "execution_count": 71,
   "metadata": {
    "collapsed": false
   },
   "outputs": [],
   "source": [
    "recomb_header = [\"BatchA\", \n",
    "\"BatchB\",\n",
    "\"BatchA_Sampled\", \n",
    "\"BatchB_Sampled\", \n",
    "\"Recombination\", \n",
    "\"BatchA_Sampled_Viable\",\n",
    "\"BatchB_Sampled_Viable\",\n",
    "\"Recombination__Viable\",\n",
    "\"BatchA_Sampled1\", \n",
    "\"BatchA_Sampled2\", \n",
    "\"RecombinationAA\", \n",
    "\"BatchA_Sampled1_Viable\", \n",
    "\"BatchA_Sampled2_Viable\", \n",
    "\"RecombinationAA_Viable\", \n",
    "\"BatchB_Sampled1\", \n",
    "\"BatchB_Sampled2\", \n",
    "\"RecombinationBB\", \n",
    "\"BatchB_Sampled1_Viable\", \n",
    "\"BatchB_Sampled2_Viable\", \n",
    "\"RecombinationBB_Viable\"] \n",
    "\n",
    "scenA_viab = pd.read_csv(\"ScenA_recombinant_viability.csv\")#, names=recomb_header)\n",
    "scenB_viab = pd.read_csv(\"ScenB_recombinant_viability.csv\")#, names=recomb_header)\n",
    "scenC_viab = pd.read_csv(\"ScenC_recombinant_viability.csv\")#, names=recomb_header)\n",
    "scenD_viab = pd.read_csv(\"ScenD_Drift_recombinant_viability.csv\")#, names=recomb_header)\n",
    "scenE_viab = pd.read_csv(\"ScenE_recombinant_viability.csv\")#, names=recomb_header)"
   ]
  },
  {
   "cell_type": "code",
   "execution_count": 73,
   "metadata": {
    "collapsed": false
   },
   "outputs": [
    {
     "data": {
      "text/plain": [
       "0     0.942747\n",
       "1     0.919440\n",
       "2     0.919470\n",
       "3     0.918021\n",
       "4     0.929767\n",
       "5     0.963979\n",
       "6     0.939176\n",
       "7     0.950429\n",
       "8     0.911261\n",
       "9     0.942811\n",
       "10    0.913589\n",
       "11    0.893566\n",
       "        ...   \n",
       "18    0.966272\n",
       "19    0.943060\n",
       "20    0.956113\n",
       "21    0.931473\n",
       "22    0.875943\n",
       "23    0.888490\n",
       "24    0.943484\n",
       "25    0.941944\n",
       "26    0.738194\n",
       "27    0.937539\n",
       "28    0.884558\n",
       "29    0.906889\n",
       "Name: Recombination_, dtype: float64"
      ]
     },
     "execution_count": 73,
     "metadata": {},
     "output_type": "execute_result"
    }
   ],
   "source": [
    "scenA_viab['Recombination_']"
   ]
  },
  {
   "cell_type": "code",
   "execution_count": 93,
   "metadata": {
    "collapsed": false
   },
   "outputs": [
    {
     "data": {
      "text/plain": [
       "[0.96799456666666683,\n",
       " 0.99203583333333312,\n",
       " 0.99211396666666662,\n",
       " 0.035844500000000168,\n",
       " 0.0036874000000002294,\n",
       " 0.0051822000000002477]"
      ]
     },
     "execution_count": 93,
     "metadata": {},
     "output_type": "execute_result"
    }
   ],
   "source": [
    "A_AB_ci = bootstrap.ci(data=scenA_viab['Recombination__Viable'], statfunction=scipy.mean, n_samples=10000)\n",
    "A_AA_ci = bootstrap.ci(data=scenA_viab['RecombinationAA_Viable'], statfunction=scipy.mean, n_samples=10000)\n",
    "A_BB_ci = bootstrap.ci(data=scenA_viab['RecombinationBB_Viable'], statfunction=scipy.mean, n_samples=10000)\n",
    "A_vals = [scenA_viab['Recombination__Viable'].mean(), \n",
    "              scenA_viab['RecombinationAA_Viable'].mean(), \n",
    "              scenA_viab['RecombinationBB_Viable'].mean(),\n",
    "              A_AB_ci[1]-A_AB_ci[0], \n",
    "              A_AA_ci[1]-A_AA_ci[0], \n",
    "              A_BB_ci[1]-A_BB_ci[0]]\n",
    "A_vals"
   ]
  },
  {
   "cell_type": "code",
   "execution_count": 95,
   "metadata": {
    "collapsed": false
   },
   "outputs": [
    {
     "data": {
      "text/plain": [
       "[0.95671175862068947,\n",
       " 0.98857379310344839,\n",
       " 0.99175141379310361,\n",
       " 0.030912310344827554,\n",
       " 0.012277724137930934,\n",
       " 0.0035959999999999326]"
      ]
     },
     "execution_count": 95,
     "metadata": {},
     "output_type": "execute_result"
    }
   ],
   "source": [
    "B_AB_ci = bootstrap.ci(data=scenB_viab['Recombination__Viable'], statfunction=scipy.mean, n_samples=10000)\n",
    "B_AA_ci = bootstrap.ci(data=scenB_viab['RecombinationAA_Viable'], statfunction=scipy.mean, n_samples=10000)\n",
    "B_BB_ci = bootstrap.ci(data=scenB_viab['RecombinationBB_Viable'], statfunction=scipy.mean, n_samples=10000)\n",
    "B_vals = [scenB_viab['Recombination__Viable'].mean(), \n",
    "              scenB_viab['RecombinationAA_Viable'].mean(), \n",
    "              scenB_viab['RecombinationBB_Viable'].mean(),\n",
    "              B_AB_ci[1]-B_AB_ci[0], \n",
    "              B_AA_ci[1]-B_AA_ci[0], \n",
    "              B_BB_ci[1]-B_BB_ci[0]]\n",
    "B_vals"
   ]
  },
  {
   "cell_type": "code",
   "execution_count": 96,
   "metadata": {
    "collapsed": false
   },
   "outputs": [
    {
     "data": {
      "text/plain": [
       "[0.95396379310344814,\n",
       " 0.99035017241379297,\n",
       " 0.99248706896551719,\n",
       " 0.042138103448275954,\n",
       " 0.0047240689655171364,\n",
       " 0.0040778275862068947]"
      ]
     },
     "execution_count": 96,
     "metadata": {},
     "output_type": "execute_result"
    }
   ],
   "source": [
    "C_AB_ci = bootstrap.ci(data=scenC_viab['Recombination__Viable'], statfunction=scipy.mean, n_samples=10000)\n",
    "C_AA_ci = bootstrap.ci(data=scenC_viab['RecombinationAA_Viable'], statfunction=scipy.mean, n_samples=10000)\n",
    "C_BB_ci = bootstrap.ci(data=scenC_viab['RecombinationBB_Viable'], statfunction=scipy.mean, n_samples=10000)\n",
    "C_vals = [scenC_viab['Recombination__Viable'].mean(), \n",
    "              scenC_viab['RecombinationAA_Viable'].mean(), \n",
    "              scenC_viab['RecombinationBB_Viable'].mean(),\n",
    "              C_AB_ci[1]-C_AB_ci[0], \n",
    "              C_AA_ci[1]-C_AA_ci[0], \n",
    "              C_BB_ci[1]-C_BB_ci[0]]\n",
    "C_vals"
   ]
  },
  {
   "cell_type": "code",
   "execution_count": 97,
   "metadata": {
    "collapsed": false
   },
   "outputs": [
    {
     "data": {
      "text/plain": [
       "[0.96927146666666664,\n",
       " 0.99302279999999998,\n",
       " 0.99293303333333338,\n",
       " 0.035262033333333442,\n",
       " 0.0037866666666667159,\n",
       " 0.0033765333333332093]"
      ]
     },
     "execution_count": 97,
     "metadata": {},
     "output_type": "execute_result"
    }
   ],
   "source": [
    "D_AB_ci = bootstrap.ci(data=scenD_viab['Recombination__Viable'], statfunction=scipy.mean, n_samples=10000)\n",
    "D_AA_ci = bootstrap.ci(data=scenD_viab['RecombinationAA_Viable'], statfunction=scipy.mean, n_samples=10000)\n",
    "D_BB_ci = bootstrap.ci(data=scenD_viab['RecombinationBB_Viable'], statfunction=scipy.mean, n_samples=10000)\n",
    "D_vals = [scenD_viab['Recombination__Viable'].mean(), \n",
    "              scenD_viab['RecombinationAA_Viable'].mean(), \n",
    "              scenD_viab['RecombinationBB_Viable'].mean(),\n",
    "              D_AB_ci[1]-D_AB_ci[0], \n",
    "              D_AA_ci[1]-D_AA_ci[0], \n",
    "              D_BB_ci[1]-D_BB_ci[0]]\n",
    "D_vals"
   ]
  },
  {
   "cell_type": "code",
   "execution_count": 98,
   "metadata": {
    "collapsed": false
   },
   "outputs": [
    {
     "data": {
      "text/plain": [
       "[0.94915282758620689,\n",
       " 0.99260020689655171,\n",
       " 0.99155648275862052,\n",
       " 0.045864034482758442,\n",
       " 0.003155586206896599,\n",
       " 0.003693482758620692]"
      ]
     },
     "execution_count": 98,
     "metadata": {},
     "output_type": "execute_result"
    }
   ],
   "source": [
    "E_AB_ci = bootstrap.ci(data=scenE_viab['Recombination__Viable'], statfunction=scipy.mean, n_samples=10000)\n",
    "E_AA_ci = bootstrap.ci(data=scenE_viab['RecombinationAA_Viable'], statfunction=scipy.mean, n_samples=10000)\n",
    "E_BB_ci = bootstrap.ci(data=scenE_viab['RecombinationBB_Viable'], statfunction=scipy.mean, n_samples=10000)\n",
    "E_vals = [scenE_viab['Recombination__Viable'].mean(), \n",
    "              scenE_viab['RecombinationAA_Viable'].mean(), \n",
    "              scenE_viab['RecombinationBB_Viable'].mean(),\n",
    "              E_AB_ci[1]-E_AB_ci[0], \n",
    "              E_AA_ci[1]-E_AA_ci[0], \n",
    "              E_BB_ci[1]-E_BB_ci[0]]\n",
    "E_vals"
   ]
  },
  {
   "cell_type": "code",
   "execution_count": 138,
   "metadata": {
    "collapsed": false
   },
   "outputs": [
    {
     "data": {
      "image/png": "[encoded data removed]",
      "text/plain": [
       "<matplotlib.figure.Figure at 0x7f293828fed0>"
      ]
     },
     "metadata": {},
     "output_type": "display_data"
    }
   ],
   "source": [
    "sectioned_viab = pd.DataFrame([D_vals, A_vals, B_vals, C_vals, E_vals], \n",
    "                        columns = ['Hybrid', 'In-Group AA', 'In-Group BB', 'AB_err', 'AA_err', 'BB_err'],\n",
    "                        index = ['Drift', 'A', 'B', 'C', 'E'])\n",
    "ax = sectioned_viab[['Hybrid', 'In-Group AA', 'In-Group BB']].plot(kind='bar', \n",
    "                                                       yerr=sectioned_fitness[['AB_err','AA_err', 'BB_err']].values.T,\n",
    "                                                       alpha = 0.5,\n",
    "                                                       ylim=[0,1.05],\n",
    "                                                        rot=0,\n",
    "                                                        title=\"Forced Matings - Fraction Viable Offspring\",\n",
    "                                                       error_kw=dict(ecolor='k'))\n",
    "ax.set_xlabel(\"Treatments\")\n",
    "ax.set_ylabel(\"Fraction Viable\")\n",
    "fig = ax.get_figure()\n",
    "fig.savefig(\"recombination_viability.png\")"
   ]
  },
  {
   "cell_type": "code",
   "execution_count": null,
   "metadata": {
    "collapsed": true
   },
   "outputs": [],
   "source": []
  },
  {
   "cell_type": "code",
   "execution_count": 142,
   "metadata": {
    "collapsed": false
   },
   "outputs": [
    {
     "name": "stdout",
     "output_type": "stream",
     "text": [
      "8.7819954719\n",
      "0.000335709729814\n",
      "0.0240412666667\n",
      "0.0241194\n",
      "0.772878702202\n",
      "0.771496088488\n",
      "reject null of sameness (different)\n"
     ]
    }
   ],
   "source": [
    "f_stat, p_val = stats.f_oneway(scenA_viab['Recombination__Viable'], \n",
    "                               scenA_viab['RecombinationAA_Viable'], \n",
    "                               scenA_viab['RecombinationBB_Viable'])\n",
    "\n",
    "print f_stat\n",
    "print p_val\n",
    "\n",
    "print abs(scenA_viab['Recombination__Viable'].mean() - scenA_viab['RecombinationAA_Viable'].mean())\n",
    "print abs(scenA_viab['Recombination__Viable'].mean() - scenA_viab['RecombinationBB_Viable'].mean())\n",
    "\n",
    "cohens_d_AA = abs(scenA_viab['Recombination__Viable'].mean() - scenA_viab['RecombinationAA_Viable'].mean()) \\\n",
    "/ (sqrt((scenA_viab['Recombination__Viable'].std() ** 2 + scenA_viab['RecombinationAA_Viable'].std() ** 2) / 2))\n",
    "\n",
    "cohens_d_BB = abs(scenA_viab['Recombination__Viable'].mean() - scenA_viab['RecombinationBB_Viable'].mean()) \\\n",
    "/ (sqrt((scenA_viab['Recombination__Viable'].std() ** 2 + scenA_viab['RecombinationBB_Viable'].std() ** 2) / 2))\n",
    "\n",
    "\n",
    "print cohens_d_AA\n",
    "print cohens_d_BB\n",
    "\n",
    "\n",
    "if p_val < (0.05/3): #bonferroni\n",
    "    print \"reject null of sameness (different)\"\n",
    "else:\n",
    "    print \"can't reject null of sameness\""
   ]
  },
  {
   "cell_type": "code",
   "execution_count": 143,
   "metadata": {
    "collapsed": false
   },
   "outputs": [
    {
     "name": "stdout",
     "output_type": "stream",
     "text": [
      "16.1544943368\n",
      "1.15870338705e-06\n",
      "0.0318620344828\n",
      "0.0350396551724\n",
      "1.00844785723\n",
      "1.1680906548\n",
      "reject null of sameness (different)\n"
     ]
    }
   ],
   "source": [
    "f_stat, p_val = stats.f_oneway(scenB_viab['Recombination__Viable'], \n",
    "                               scenB_viab['RecombinationAA_Viable'], \n",
    "                               scenB_viab['RecombinationBB_Viable'])\n",
    "print f_stat\n",
    "print p_val\n",
    "\n",
    "\n",
    "print abs(scenB_viab['Recombination__Viable'].mean() - scenB_viab['RecombinationAA_Viable'].mean())\n",
    "print abs(scenB_viab['Recombination__Viable'].mean() - scenB_viab['RecombinationBB_Viable'].mean())\n",
    "\n",
    "cohens_d_AA = abs(scenB_viab['Recombination__Viable'].mean() - scenB_viab['RecombinationAA_Viable'].mean()) \\\n",
    "/ (sqrt((scenB_viab['Recombination__Viable'].std() ** 2 + scenB_viab['RecombinationAA_Viable'].std() ** 2) / 2))\n",
    "\n",
    "cohens_d_BB = abs(scenB_viab['Recombination__Viable'].mean() - scenB_viab['RecombinationBB_Viable'].mean()) \\\n",
    "/ (sqrt((scenB_viab['Recombination__Viable'].std() ** 2 + scenB_viab['RecombinationBB_Viable'].std() ** 2) / 2))\n",
    "\n",
    "\n",
    "print cohens_d_AA\n",
    "print cohens_d_BB\n",
    "\n",
    "if p_val < (0.05/3): #bonferroni\n",
    "    print \"reject null of sameness (different)\"\n",
    "else:\n",
    "    print \"can't reject null of sameness\""
   ]
  },
  {
   "cell_type": "code",
   "execution_count": 144,
   "metadata": {
    "collapsed": false
   },
   "outputs": [
    {
     "name": "stdout",
     "output_type": "stream",
     "text": [
      "13.4174471447\n",
      "8.77640256809e-06\n",
      "0.0363863793103\n",
      "0.0385232758621\n",
      "0.938252317291\n",
      "0.995119255622\n",
      "reject null of sameness (different)\n"
     ]
    }
   ],
   "source": [
    "f_stat, p_val = stats.f_oneway(scenC_viab['Recombination__Viable'], \n",
    "                               scenC_viab['RecombinationAA_Viable'], \n",
    "                               scenC_viab['RecombinationBB_Viable'])\n",
    "print f_stat\n",
    "print p_val\n",
    "\n",
    "print  abs(scenC_viab['Recombination__Viable'].mean() - scenC_viab['RecombinationAA_Viable'].mean())\n",
    "print  abs(scenC_viab['Recombination__Viable'].mean() - scenC_viab['RecombinationBB_Viable'].mean())\n",
    "\n",
    "cohens_d_AA = abs(scenC_viab['Recombination__Viable'].mean() - scenC_viab['RecombinationAA_Viable'].mean()) \\\n",
    "/ (sqrt((scenC_viab['Recombination__Viable'].std() ** 2 + scenC_viab['RecombinationAA_Viable'].std() ** 2) / 2))\n",
    "\n",
    "cohens_d_BB = abs(scenC_viab['Recombination__Viable'].mean() - scenC_viab['RecombinationBB_Viable'].mean()) \\\n",
    "/ (sqrt((scenC_viab['Recombination__Viable'].std() ** 2 + scenC_viab['RecombinationBB_Viable'].std() ** 2) / 2))\n",
    "\n",
    "\n",
    "print cohens_d_AA\n",
    "print cohens_d_BB\n",
    "\n",
    "if p_val < (0.05/3): #bonferroni\n",
    "    print \"reject null of sameness (different)\"\n",
    "else:\n",
    "    print \"can't reject null of sameness\""
   ]
  },
  {
   "cell_type": "code",
   "execution_count": 145,
   "metadata": {
    "collapsed": false
   },
   "outputs": [
    {
     "name": "stdout",
     "output_type": "stream",
     "text": [
      "8.19680457934\n",
      "0.000547787016706\n",
      "0.0237513333333\n",
      "0.0236615666667\n",
      "0.744622148625\n",
      "0.743024002382\n",
      "reject null of sameness (different)\n"
     ]
    }
   ],
   "source": [
    "f_stat, p_val = stats.f_oneway(scenD_viab['Recombination__Viable'], \n",
    "                               scenD_viab['RecombinationAA_Viable'], \n",
    "                               scenD_viab['RecombinationBB_Viable'])\n",
    "print f_stat\n",
    "print p_val\n",
    "\n",
    "print abs(scenD_viab['Recombination__Viable'].mean() - scenD_viab['RecombinationAA_Viable'].mean())\n",
    "print abs(scenD_viab['Recombination__Viable'].mean() - scenD_viab['RecombinationBB_Viable'].mean())\n",
    "\n",
    "cohens_d = abs(scenD_viab['Recombination__Viable'].mean() - scenD_viab['RecombinationAA_Viable'].mean()) \\\n",
    "/ (sqrt((scenD_viab['Recombination__Viable'].std() ** 2 + scenD_viab['RecombinationAA_Viable'].std() ** 2) / 2))\n",
    "print cohens_d\n",
    "\n",
    "cohens_d = abs(scenD_viab['Recombination__Viable'].mean() - scenD_viab['RecombinationBB_Viable'].mean()) \\\n",
    "/ (sqrt((scenD_viab['Recombination__Viable'].std() ** 2 + scenD_viab['RecombinationBB_Viable'].std() ** 2) / 2))\n",
    "print cohens_d\n",
    "\n",
    "if p_val < (0.05/3): #bonferroni\n",
    "    print \"reject null of sameness (different)\"\n",
    "else:\n",
    "    print \"can't reject null of sameness\""
   ]
  },
  {
   "cell_type": "code",
   "execution_count": 146,
   "metadata": {
    "collapsed": false
   },
   "outputs": [
    {
     "name": "stdout",
     "output_type": "stream",
     "text": [
      "15.4356960649\n",
      "1.95357852631e-06\n",
      "0.0434473793103\n",
      "0.0424036551724\n",
      "1.04783541164\n",
      "1.02181001885\n",
      "reject null of sameness (different)\n"
     ]
    }
   ],
   "source": [
    "f_stat, p_val = stats.f_oneway(scenE_viab['Recombination__Viable'], \n",
    "                               scenE_viab['RecombinationAA_Viable'], \n",
    "                               scenE_viab['RecombinationBB_Viable'])\n",
    "print f_stat\n",
    "print p_val\n",
    "\n",
    "print abs(scenE_viab['Recombination__Viable'].mean() - scenE_viab['RecombinationAA_Viable'].mean())\n",
    "print abs(scenE_viab['Recombination__Viable'].mean() - scenE_viab['RecombinationBB_Viable'].mean())\n",
    "\n",
    "\n",
    "cohens_d = abs(scenE_viab['Recombination__Viable'].mean() - scenE_viab['RecombinationAA_Viable'].mean()) \\\n",
    "/ (sqrt((scenE_viab['Recombination__Viable'].std() ** 2 + scenE_viab['RecombinationAA_Viable'].std() ** 2) / 2))\n",
    "print cohens_d\n",
    "\n",
    "cohens_d = abs(scenE_viab['Recombination__Viable'].mean() - scenE_viab['RecombinationBB_Viable'].mean()) \\\n",
    "/ (sqrt((scenE_viab['Recombination__Viable'].std() ** 2 + scenE_viab['RecombinationBB_Viable'].std() ** 2) / 2))\n",
    "print cohens_d\n",
    "\n",
    "\n",
    "if p_val < (0.05/3): #bonferroni\n",
    "    print \"reject null of sameness (different)\"\n",
    "else:\n",
    "    print \"can't reject null of sameness\""
   ]
  },
  {
   "cell_type": "code",
   "execution_count": 131,
   "metadata": {
    "collapsed": false
   },
   "outputs": [
    {
     "name": "stdout",
     "output_type": "stream",
     "text": [
      "\u001b[0m\u001b[01;35mrecombination_fitness.png\u001b[0m  \u001b[01;35mrecombination_viability.png\u001b[0m\r\n"
     ]
    }
   ],
   "source": [
    "%ls *.png"
   ]
  },
  {
   "cell_type": "code",
   "execution_count": null,
   "metadata": {
    "collapsed": true
   },
   "outputs": [],
   "source": []
  }
 ],
 "metadata": {
  "kernelspec": {
   "display_name": "Python 2",
   "language": "python2",
   "name": "python2"
  },
  "language_info": {
   "codemirror_mode": {
    "name": "ipython",
    "version": 2
   },
   "file_extension": ".py",
   "mimetype": "text/x-python",
   "name": "python",
   "nbconvert_exporter": "python",
   "pygments_lexer": "ipython2",
   "version": "2.7.10"
  }
 },
 "nbformat": 4,
 "nbformat_minor": 0
}
