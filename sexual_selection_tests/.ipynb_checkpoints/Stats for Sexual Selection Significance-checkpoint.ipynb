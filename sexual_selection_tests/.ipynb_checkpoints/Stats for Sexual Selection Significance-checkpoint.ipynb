{
 "cells": [
  {
   "cell_type": "code",
   "execution_count": 15,
   "metadata": {
    "collapsed": false
   },
   "outputs": [],
   "source": [
    "import pandas as pd\n",
    "import numpy as np\n",
    "from scipy import stats\n",
    "import statsmodels.api as sm\n",
    "import matplotlib.pyplot as plt\n",
    "\n",
    "# Set some Pandas options\n",
    "pd.set_option('display.notebook_repr_html', False)\n",
    "pd.set_option('display.max_columns', 20)\n",
    "pd.set_option('display.max_rows', 25)\n"
   ]
  },
  {
   "cell_type": "code",
   "execution_count": 11,
   "metadata": {
    "collapsed": true
   },
   "outputs": [],
   "source": [
    "ctrl = pd.read_csv(\"Ctrl_sum_matings_ratio_gen1.dat\")\n",
    "scenA = pd.read_csv(\"ScenA_sum_matings_ratio_gen1.dat\")\n",
    "scenB = pd.read_csv(\"ScenB_sum_matings_ratio_gen1.dat\")\n",
    "scenC = pd.read_csv(\"ScenC_sum_matings_ratio_gen1.dat\")\n",
    "scenD = pd.read_csv(\"ScenD_sum_matings_ratio_gen1.dat\")\n",
    "scenE = pd.read_csv(\"ScenE_sum_matings_ratio_gen1.dat\")"
   ]
  },
  {
   "cell_type": "code",
   "execution_count": 38,
   "metadata": {
    "collapsed": false,
    "scrolled": false
   },
   "outputs": [
    {
     "name": "stdout",
     "output_type": "stream",
     "text": [
      "6.53932044362\n",
      "6.17989868275e-11\n",
      "reject null of sameness (different)\n"
     ]
    }
   ],
   "source": [
    "z_stat, p_val = stats.ranksums(ctrl, scenA)  \n",
    "print z_stat\n",
    "print p_val\n",
    "if p_val < (0.05/5): #bonferroni\n",
    "    print \"reject null of sameness (different)\"\n",
    "else:\n",
    "    print \"can't reject null of sameness\""
   ]
  },
  {
   "cell_type": "code",
   "execution_count": 39,
   "metadata": {
    "collapsed": false
   },
   "outputs": [
    {
     "name": "stdout",
     "output_type": "stream",
     "text": [
      "6.48074069841\n",
      "9.12734179929e-11\n",
      "reject null of sameness (different)\n"
     ]
    }
   ],
   "source": [
    "z_stat, p_val = stats.ranksums(ctrl, scenB)  \n",
    "print z_stat\n",
    "print p_val\n",
    "if p_val < (0.05/5): #bonferroni\n",
    "    print \"reject null of sameness (different)\"\n",
    "else:\n",
    "    print \"can't reject null of sameness\""
   ]
  },
  {
   "cell_type": "code",
   "execution_count": 40,
   "metadata": {
    "collapsed": false
   },
   "outputs": [
    {
     "name": "stdout",
     "output_type": "stream",
     "text": [
      "6.03379306403\n",
      "1.60155132392e-09\n",
      "reject null of sameness (different)\n"
     ]
    }
   ],
   "source": [
    "z_stat, p_val = stats.ranksums(ctrl, scenC)  \n",
    "print z_stat\n",
    "print p_val\n",
    "if p_val < (0.05/5): #bonferroni\n",
    "    print \"reject null of sameness (different)\"\n",
    "else:\n",
    "    print \"can't reject null of sameness\""
   ]
  },
  {
   "cell_type": "code",
   "execution_count": 42,
   "metadata": {
    "collapsed": false
   },
   "outputs": [
    {
     "name": "stdout",
     "output_type": "stream",
     "text": [
      "6.19719190674\n",
      "5.74794027186e-10\n",
      "reject null of sameness (different)\n"
     ]
    }
   ],
   "source": [
    "z_stat, p_val = stats.ranksums(ctrl, scenD)  \n",
    "print z_stat\n",
    "print p_val\n",
    "if p_val < (0.05/5): #bonferroni\n",
    "    print \"reject null of sameness (different)\"\n",
    "else:\n",
    "    print \"can't reject null of sameness\""
   ]
  },
  {
   "cell_type": "code",
   "execution_count": 41,
   "metadata": {
    "collapsed": false
   },
   "outputs": [
    {
     "name": "stdout",
     "output_type": "stream",
     "text": [
      "6.44881586738\n",
      "1.12727418461e-10\n",
      "reject null of sameness (different)\n"
     ]
    }
   ],
   "source": [
    "z_stat, p_val = stats.ranksums(ctrl, scenE)  \n",
    "print z_stat\n",
    "print p_val\n",
    "if p_val < (0.05/5): #bonferroni\n",
    "    print \"reject null of sameness (different)\"\n",
    "else:\n",
    "    print \"can't reject null of sameness\""
   ]
  },
  {
   "cell_type": "code",
   "execution_count": 33,
   "metadata": {
    "collapsed": false
   },
   "outputs": [
    {
     "name": "stdout",
     "output_type": "stream",
     "text": [
      "[ 55.29619626]\n",
      "[  1.57688100e-33]\n",
      "reject null of sameness (different)\n"
     ]
    }
   ],
   "source": [
    "f_stat, p_val = stats.f_oneway(ctrl, scenA, scenB, scenC, scenD, scenE)\n",
    "print f_stat\n",
    "print p_val\n",
    "\n",
    "if p_val < (0.05/5): #bonferroni\n",
    "    print \"reject null of sameness (different)\"\n",
    "else:\n",
    "    print \"can't reject null of sameness\""
   ]
  },
  {
   "cell_type": "code",
   "execution_count": 32,
   "metadata": {
    "collapsed": false
   },
   "outputs": [
    {
     "name": "stdout",
     "output_type": "stream",
     "text": [
      "[ 2.90655202]\n",
      "[ 0.02399774]\n",
      "can't reject null of sameness\n"
     ]
    }
   ],
   "source": [
    "f_stat, p_val = stats.f_oneway(scenA, scenB, scenC, scenD, scenE)\n",
    "print f_stat\n",
    "print p_val \n",
    "if p_val < (0.05/5): #bonferroni\n",
    "    print \"reject null of sameness (different)\"\n",
    "else:\n",
    "    print \"can't reject null of sameness\""
   ]
  },
  {
   "cell_type": "code",
   "execution_count": null,
   "metadata": {
    "collapsed": true
   },
   "outputs": [],
   "source": [
    "ctrl = pd.read_csv(\"Ctrl_sum_matings_ratio_gen1.dat\")\n",
    "scenA = pd.read_csv(\"ScenA_sum_matings_ratio_gen1.dat\")\n",
    "scenB = pd.read_csv(\"ScenB_sum_matings_ratio_gen1.dat\")\n",
    "scenC = pd.read_csv(\"ScenC_sum_matings_ratio_gen1.dat\")\n",
    "scenD = pd.read_csv(\"ScenD_sum_matings_ratio_gen1.dat\")\n",
    "scenE = pd.read_csv(\"ScenE_sum_matings_ratio_gen1.dat\")"
   ]
  }
 ],
 "metadata": {
  "kernelspec": {
   "display_name": "Python 2",
   "language": "python2",
   "name": "python2"
  },
  "language_info": {
   "codemirror_mode": {
    "name": "ipython",
    "version": 2
   },
   "file_extension": ".py",
   "mimetype": "text/x-python",
   "name": "python",
   "nbconvert_exporter": "python",
   "pygments_lexer": "ipython2",
   "version": "2.7.10"
  }
 },
 "nbformat": 4,
 "nbformat_minor": 0
}
