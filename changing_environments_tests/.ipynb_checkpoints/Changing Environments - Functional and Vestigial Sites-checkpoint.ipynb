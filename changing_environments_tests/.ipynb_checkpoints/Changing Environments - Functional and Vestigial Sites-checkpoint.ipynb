{
 "cells": [
  {
   "cell_type": "markdown",
   "metadata": {},
   "source": [
    "## Functional and Vestigial Sites"
   ]
  },
  {
   "cell_type": "code",
   "execution_count": null,
   "metadata": {
    "collapsed": true
   },
   "outputs": [],
   "source": []
  },
  {
   "cell_type": "markdown",
   "metadata": {},
   "source": [
    "## To generate the functional sites\n",
    "\n",
    ">rosiec@13-42-76:/Volumes/rosiec/__research/devolab_research/evolution_of_modularity/raw_data/082/INTERTWINED/last_common_ancestor_mutation_landscapes$ python ../../../../../scripts/graph_generation/bar_chart_from_csv.py \n",
    "--error \n",
    "--groups 3 \n",
    "--xticks \"Static (control),Benign,Hostile\" \n",
    "--columns \"1,2,3\" \n",
    "--legend \"Fluctuating Task Only,Backbone Task Only,Both Tasks\" \n",
    "--pair \n",
    "--title \"Vestigial Site Count by Task and Treatment Environment\" \n",
    "--ylabel \"Vestigial Sites\" \n",
    "--xlabel \"Treatment Environment\" \n",
    "--separator \",\" \n",
    "degenerate_sites__intertwined___nototal.png \n",
    "c*_degenerate_site_count.csv \n",
    "n*_degenerate_site_count.csv \n",
    "p*_degenerate_site_count.csv"
   ]
  },
  {
   "cell_type": "code",
   "execution_count": 1,
   "metadata": {
    "collapsed": false
   },
   "outputs": [
    {
     "data": {
      "text/plain": [
       "u'0.17.0'"
      ]
     },
     "execution_count": 1,
     "metadata": {},
     "output_type": "execute_result"
    }
   ],
   "source": [
    "import pandas as pd\n",
    "import numpy as np\n",
    "import matplotlib.pyplot as plt\n",
    "pd.__version__"
   ]
  },
  {
   "cell_type": "code",
   "execution_count": 2,
   "metadata": {
    "collapsed": true
   },
   "outputs": [],
   "source": [
    "%matplotlib inline"
   ]
  },
  {
   "cell_type": "code",
   "execution_count": 3,
   "metadata": {
    "collapsed": false
   },
   "outputs": [],
   "source": [
    "import scipy  \n",
    "from scipy import stats\n",
    "import scikits.bootstrap as bootstrap  "
   ]
  },
  {
   "cell_type": "code",
   "execution_count": 4,
   "metadata": {
    "collapsed": false
   },
   "outputs": [
    {
     "data": {
      "text/plain": [
       "'0.16.1'"
      ]
     },
     "execution_count": 4,
     "metadata": {},
     "output_type": "execute_result"
    }
   ],
   "source": [
    "scipy.__version__"
   ]
  },
  {
   "cell_type": "code",
   "execution_count": 5,
   "metadata": {
    "collapsed": false
   },
   "outputs": [
    {
     "name": "stdout",
     "output_type": "stream",
     "text": [
      "\u001b[0m\u001b[01;32mcombined_degenerate_site_and_mutation_landscape_metrics.csv\u001b[0m*\r\n",
      "\u001b[01;32mcombined_degenerate_site_and_mutation_landscape_metrics__2step.csv\u001b[0m*\r\n",
      "\u001b[01;32mcontrol_intertwined__combined_degenerate_site_and_mutation_landscape_metrics.csv\u001b[0m*\r\n",
      "\u001b[01;32mcontrol_intertwined__combined_degenerate_site_and_mutation_landscape_metrics__plus_2step.csv\u001b[0m\u001b[K*\r\n",
      "\u001b[01;32mcontrol_intertwined_active_site_count.csv\u001b[0m*\r\n",
      "control_intertwined_degenerate_site_count.csv\r\n",
      "\u001b[01;32mnoreward_intertwined__combined_degenerate_site_and_mutation_landscape_metrics.csv\u001b[0m\u001b[K*\r\n",
      "\u001b[01;32mnoreward_intertwined__combined_degenerate_site_and_mutation_landscape_metrics__plus_2step.csv\u001b[0m\u001b[K*\r\n",
      "\u001b[01;32mnoreward_intertwined_active_site_count.csv\u001b[0m*\r\n",
      "noreward_intertwined_degenerate_site_count.csv\r\n",
      "\u001b[01;32mpunish_intertwined__combined_degenerate_site_and_mutation_landscape_metrics.csv\u001b[0m*\r\n",
      "\u001b[01;32mpunish_intertwined__combined_degenerate_site_and_mutation_landscape_metrics__plus_2step.csv\u001b[0m\u001b[K*\r\n",
      "\u001b[01;32mpunish_intertwined_active_site_count.csv\u001b[0m*\r\n",
      "punish_intertwined_degenerate_site_count.csv\r\n"
     ]
    }
   ],
   "source": [
    "%ls func_and_vestigial_sites/"
   ]
  },
  {
   "cell_type": "code",
   "execution_count": 6,
   "metadata": {
    "collapsed": false,
    "scrolled": true
   },
   "outputs": [
    {
     "name": "stdout",
     "output_type": "stream",
     "text": [
      "0,0,1,1\r\n",
      "0,0,0,0\r\n",
      "0,0,0,0\r\n",
      "0,0,1,1\r\n",
      "0,0,1,1\r\n",
      "0,0,1,1\r\n",
      "0,0,2,2\r\n",
      "0,2,1,3\r\n",
      "0,0,0,0\r\n",
      "0,0,1,1\r\n"
     ]
    }
   ],
   "source": [
    "%cat func_and_vestigial_sites/control_intertwined_degenerate_site_count.csv | head"
   ]
  },
  {
   "cell_type": "code",
   "execution_count": 7,
   "metadata": {
    "collapsed": true
   },
   "outputs": [],
   "source": [
    "header_row=['Fluct','BB','Both','Total']"
   ]
  },
  {
   "cell_type": "code",
   "execution_count": 8,
   "metadata": {
    "collapsed": false
   },
   "outputs": [
    {
     "data": {
      "text/html": [
       "<div>\n",
       "<table border=\"1\" class=\"dataframe\">\n",
       "  <thead>\n",
       "    <tr style=\"text-align: right;\">\n",
       "      <th></th>\n",
       "      <th>Fluct</th>\n",
       "      <th>BB</th>\n",
       "      <th>Both</th>\n",
       "      <th>Total</th>\n",
       "    </tr>\n",
       "  </thead>\n",
       "  <tbody>\n",
       "    <tr>\n",
       "      <th>41</th>\n",
       "      <td>0</td>\n",
       "      <td>0</td>\n",
       "      <td>0</td>\n",
       "      <td>0</td>\n",
       "    </tr>\n",
       "    <tr>\n",
       "      <th>42</th>\n",
       "      <td>3</td>\n",
       "      <td>0</td>\n",
       "      <td>1</td>\n",
       "      <td>4</td>\n",
       "    </tr>\n",
       "    <tr>\n",
       "      <th>43</th>\n",
       "      <td>0</td>\n",
       "      <td>2</td>\n",
       "      <td>0</td>\n",
       "      <td>2</td>\n",
       "    </tr>\n",
       "    <tr>\n",
       "      <th>44</th>\n",
       "      <td>0</td>\n",
       "      <td>0</td>\n",
       "      <td>0</td>\n",
       "      <td>0</td>\n",
       "    </tr>\n",
       "    <tr>\n",
       "      <th>45</th>\n",
       "      <td>0</td>\n",
       "      <td>0</td>\n",
       "      <td>0</td>\n",
       "      <td>0</td>\n",
       "    </tr>\n",
       "  </tbody>\n",
       "</table>\n",
       "</div>"
      ],
      "text/plain": [
       "    Fluct  BB  Both  Total\n",
       "41      0   0     0      0\n",
       "42      3   0     1      4\n",
       "43      0   2     0      2\n",
       "44      0   0     0      0\n",
       "45      0   0     0      0"
      ]
     },
     "execution_count": 8,
     "metadata": {},
     "output_type": "execute_result"
    }
   ],
   "source": [
    "\n",
    "ctrl_degen=pd.read_csv(\"func_and_vestigial_sites/control_intertwined_degenerate_site_count.csv\", names=header_row)\n",
    "ctrl_degen.head()\n",
    "ctrl_degen.tail()"
   ]
  },
  {
   "cell_type": "code",
   "execution_count": 9,
   "metadata": {
    "collapsed": false
   },
   "outputs": [
    {
     "data": {
      "text/html": [
       "<div>\n",
       "<table border=\"1\" class=\"dataframe\">\n",
       "  <thead>\n",
       "    <tr style=\"text-align: right;\">\n",
       "      <th></th>\n",
       "      <th>Fluct</th>\n",
       "      <th>BB</th>\n",
       "      <th>Both</th>\n",
       "      <th>Total</th>\n",
       "    </tr>\n",
       "  </thead>\n",
       "  <tbody>\n",
       "    <tr>\n",
       "      <th>37</th>\n",
       "      <td>2</td>\n",
       "      <td>0</td>\n",
       "      <td>0</td>\n",
       "      <td>2</td>\n",
       "    </tr>\n",
       "    <tr>\n",
       "      <th>38</th>\n",
       "      <td>3</td>\n",
       "      <td>1</td>\n",
       "      <td>1</td>\n",
       "      <td>5</td>\n",
       "    </tr>\n",
       "    <tr>\n",
       "      <th>39</th>\n",
       "      <td>0</td>\n",
       "      <td>0</td>\n",
       "      <td>0</td>\n",
       "      <td>0</td>\n",
       "    </tr>\n",
       "    <tr>\n",
       "      <th>40</th>\n",
       "      <td>1</td>\n",
       "      <td>0</td>\n",
       "      <td>3</td>\n",
       "      <td>4</td>\n",
       "    </tr>\n",
       "    <tr>\n",
       "      <th>41</th>\n",
       "      <td>1</td>\n",
       "      <td>1</td>\n",
       "      <td>1</td>\n",
       "      <td>3</td>\n",
       "    </tr>\n",
       "  </tbody>\n",
       "</table>\n",
       "</div>"
      ],
      "text/plain": [
       "    Fluct  BB  Both  Total\n",
       "37      2   0     0      2\n",
       "38      3   1     1      5\n",
       "39      0   0     0      0\n",
       "40      1   0     3      4\n",
       "41      1   1     1      3"
      ]
     },
     "execution_count": 9,
     "metadata": {},
     "output_type": "execute_result"
    }
   ],
   "source": [
    "noreward_degen=pd.read_csv(\"func_and_vestigial_sites/noreward_intertwined_degenerate_site_count.csv\", names=header_row)\n",
    "noreward_degen.tail()"
   ]
  },
  {
   "cell_type": "code",
   "execution_count": 10,
   "metadata": {
    "collapsed": false
   },
   "outputs": [
    {
     "data": {
      "text/html": [
       "<div>\n",
       "<table border=\"1\" class=\"dataframe\">\n",
       "  <thead>\n",
       "    <tr style=\"text-align: right;\">\n",
       "      <th></th>\n",
       "      <th>Fluct</th>\n",
       "      <th>BB</th>\n",
       "      <th>Both</th>\n",
       "      <th>Total</th>\n",
       "    </tr>\n",
       "  </thead>\n",
       "  <tbody>\n",
       "    <tr>\n",
       "      <th>42</th>\n",
       "      <td>4</td>\n",
       "      <td>0</td>\n",
       "      <td>0</td>\n",
       "      <td>4</td>\n",
       "    </tr>\n",
       "    <tr>\n",
       "      <th>43</th>\n",
       "      <td>3</td>\n",
       "      <td>1</td>\n",
       "      <td>0</td>\n",
       "      <td>4</td>\n",
       "    </tr>\n",
       "    <tr>\n",
       "      <th>44</th>\n",
       "      <td>13</td>\n",
       "      <td>1</td>\n",
       "      <td>0</td>\n",
       "      <td>14</td>\n",
       "    </tr>\n",
       "    <tr>\n",
       "      <th>45</th>\n",
       "      <td>2</td>\n",
       "      <td>0</td>\n",
       "      <td>1</td>\n",
       "      <td>3</td>\n",
       "    </tr>\n",
       "    <tr>\n",
       "      <th>46</th>\n",
       "      <td>2</td>\n",
       "      <td>2</td>\n",
       "      <td>1</td>\n",
       "      <td>5</td>\n",
       "    </tr>\n",
       "  </tbody>\n",
       "</table>\n",
       "</div>"
      ],
      "text/plain": [
       "    Fluct  BB  Both  Total\n",
       "42      4   0     0      4\n",
       "43      3   1     0      4\n",
       "44     13   1     0     14\n",
       "45      2   0     1      3\n",
       "46      2   2     1      5"
      ]
     },
     "execution_count": 10,
     "metadata": {},
     "output_type": "execute_result"
    }
   ],
   "source": [
    "punish_degen=pd.read_csv(\"func_and_vestigial_sites/punish_intertwined_degenerate_site_count.csv\", names=header_row)\n",
    "punish_degen.tail()"
   ]
  },
  {
   "cell_type": "code",
   "execution_count": 11,
   "metadata": {
    "collapsed": false
   },
   "outputs": [
    {
     "data": {
      "text/html": [
       "<div>\n",
       "<table border=\"1\" class=\"dataframe\">\n",
       "  <thead>\n",
       "    <tr style=\"text-align: right;\">\n",
       "      <th></th>\n",
       "      <th>Fluct</th>\n",
       "      <th>BB</th>\n",
       "      <th>Both</th>\n",
       "      <th>Total</th>\n",
       "    </tr>\n",
       "  </thead>\n",
       "  <tbody>\n",
       "    <tr>\n",
       "      <th>count</th>\n",
       "      <td>46.000000</td>\n",
       "      <td>46.000000</td>\n",
       "      <td>46.000000</td>\n",
       "      <td>46.000000</td>\n",
       "    </tr>\n",
       "    <tr>\n",
       "      <th>mean</th>\n",
       "      <td>0.108696</td>\n",
       "      <td>0.304348</td>\n",
       "      <td>0.413043</td>\n",
       "      <td>0.826087</td>\n",
       "    </tr>\n",
       "    <tr>\n",
       "      <th>std</th>\n",
       "      <td>0.482045</td>\n",
       "      <td>0.756294</td>\n",
       "      <td>0.580271</td>\n",
       "      <td>1.101602</td>\n",
       "    </tr>\n",
       "    <tr>\n",
       "      <th>min</th>\n",
       "      <td>0.000000</td>\n",
       "      <td>0.000000</td>\n",
       "      <td>0.000000</td>\n",
       "      <td>0.000000</td>\n",
       "    </tr>\n",
       "    <tr>\n",
       "      <th>25%</th>\n",
       "      <td>0.000000</td>\n",
       "      <td>0.000000</td>\n",
       "      <td>0.000000</td>\n",
       "      <td>0.000000</td>\n",
       "    </tr>\n",
       "    <tr>\n",
       "      <th>50%</th>\n",
       "      <td>0.000000</td>\n",
       "      <td>0.000000</td>\n",
       "      <td>0.000000</td>\n",
       "      <td>0.000000</td>\n",
       "    </tr>\n",
       "    <tr>\n",
       "      <th>75%</th>\n",
       "      <td>0.000000</td>\n",
       "      <td>0.000000</td>\n",
       "      <td>1.000000</td>\n",
       "      <td>1.000000</td>\n",
       "    </tr>\n",
       "    <tr>\n",
       "      <th>max</th>\n",
       "      <td>3.000000</td>\n",
       "      <td>3.000000</td>\n",
       "      <td>2.000000</td>\n",
       "      <td>4.000000</td>\n",
       "    </tr>\n",
       "  </tbody>\n",
       "</table>\n",
       "</div>"
      ],
      "text/plain": [
       "           Fluct         BB       Both      Total\n",
       "count  46.000000  46.000000  46.000000  46.000000\n",
       "mean    0.108696   0.304348   0.413043   0.826087\n",
       "std     0.482045   0.756294   0.580271   1.101602\n",
       "min     0.000000   0.000000   0.000000   0.000000\n",
       "25%     0.000000   0.000000   0.000000   0.000000\n",
       "50%     0.000000   0.000000   0.000000   0.000000\n",
       "75%     0.000000   0.000000   1.000000   1.000000\n",
       "max     3.000000   3.000000   2.000000   4.000000"
      ]
     },
     "execution_count": 11,
     "metadata": {},
     "output_type": "execute_result"
    }
   ],
   "source": [
    "ctrl_degen.describe()\n"
   ]
  },
  {
   "cell_type": "code",
   "execution_count": 12,
   "metadata": {
    "collapsed": false
   },
   "outputs": [
    {
     "data": {
      "text/html": [
       "<div>\n",
       "<table border=\"1\" class=\"dataframe\">\n",
       "  <thead>\n",
       "    <tr style=\"text-align: right;\">\n",
       "      <th></th>\n",
       "      <th>Fluct</th>\n",
       "      <th>BB</th>\n",
       "      <th>Both</th>\n",
       "      <th>Total</th>\n",
       "    </tr>\n",
       "  </thead>\n",
       "  <tbody>\n",
       "    <tr>\n",
       "      <th>count</th>\n",
       "      <td>42.000000</td>\n",
       "      <td>42.000000</td>\n",
       "      <td>42.000000</td>\n",
       "      <td>42.000000</td>\n",
       "    </tr>\n",
       "    <tr>\n",
       "      <th>mean</th>\n",
       "      <td>2.166667</td>\n",
       "      <td>0.500000</td>\n",
       "      <td>0.333333</td>\n",
       "      <td>3.000000</td>\n",
       "    </tr>\n",
       "    <tr>\n",
       "      <th>std</th>\n",
       "      <td>2.887455</td>\n",
       "      <td>0.773021</td>\n",
       "      <td>0.686691</td>\n",
       "      <td>3.068328</td>\n",
       "    </tr>\n",
       "    <tr>\n",
       "      <th>min</th>\n",
       "      <td>0.000000</td>\n",
       "      <td>0.000000</td>\n",
       "      <td>0.000000</td>\n",
       "      <td>0.000000</td>\n",
       "    </tr>\n",
       "    <tr>\n",
       "      <th>25%</th>\n",
       "      <td>0.000000</td>\n",
       "      <td>0.000000</td>\n",
       "      <td>0.000000</td>\n",
       "      <td>1.000000</td>\n",
       "    </tr>\n",
       "    <tr>\n",
       "      <th>50%</th>\n",
       "      <td>1.000000</td>\n",
       "      <td>0.000000</td>\n",
       "      <td>0.000000</td>\n",
       "      <td>2.000000</td>\n",
       "    </tr>\n",
       "    <tr>\n",
       "      <th>75%</th>\n",
       "      <td>3.000000</td>\n",
       "      <td>1.000000</td>\n",
       "      <td>0.000000</td>\n",
       "      <td>3.750000</td>\n",
       "    </tr>\n",
       "    <tr>\n",
       "      <th>max</th>\n",
       "      <td>11.000000</td>\n",
       "      <td>3.000000</td>\n",
       "      <td>3.000000</td>\n",
       "      <td>11.000000</td>\n",
       "    </tr>\n",
       "  </tbody>\n",
       "</table>\n",
       "</div>"
      ],
      "text/plain": [
       "           Fluct         BB       Both      Total\n",
       "count  42.000000  42.000000  42.000000  42.000000\n",
       "mean    2.166667   0.500000   0.333333   3.000000\n",
       "std     2.887455   0.773021   0.686691   3.068328\n",
       "min     0.000000   0.000000   0.000000   0.000000\n",
       "25%     0.000000   0.000000   0.000000   1.000000\n",
       "50%     1.000000   0.000000   0.000000   2.000000\n",
       "75%     3.000000   1.000000   0.000000   3.750000\n",
       "max    11.000000   3.000000   3.000000  11.000000"
      ]
     },
     "execution_count": 12,
     "metadata": {},
     "output_type": "execute_result"
    }
   ],
   "source": [
    "noreward_degen.describe()\n"
   ]
  },
  {
   "cell_type": "code",
   "execution_count": 13,
   "metadata": {
    "collapsed": false,
    "scrolled": false
   },
   "outputs": [
    {
     "data": {
      "text/html": [
       "<div>\n",
       "<table border=\"1\" class=\"dataframe\">\n",
       "  <thead>\n",
       "    <tr style=\"text-align: right;\">\n",
       "      <th></th>\n",
       "      <th>Fluct</th>\n",
       "      <th>BB</th>\n",
       "      <th>Both</th>\n",
       "      <th>Total</th>\n",
       "    </tr>\n",
       "  </thead>\n",
       "  <tbody>\n",
       "    <tr>\n",
       "      <th>count</th>\n",
       "      <td>47.000000</td>\n",
       "      <td>47.000000</td>\n",
       "      <td>47.000000</td>\n",
       "      <td>47.000000</td>\n",
       "    </tr>\n",
       "    <tr>\n",
       "      <th>mean</th>\n",
       "      <td>7.617021</td>\n",
       "      <td>0.787234</td>\n",
       "      <td>0.170213</td>\n",
       "      <td>8.574468</td>\n",
       "    </tr>\n",
       "    <tr>\n",
       "      <th>std</th>\n",
       "      <td>5.407536</td>\n",
       "      <td>1.196665</td>\n",
       "      <td>0.379883</td>\n",
       "      <td>5.232610</td>\n",
       "    </tr>\n",
       "    <tr>\n",
       "      <th>min</th>\n",
       "      <td>0.000000</td>\n",
       "      <td>0.000000</td>\n",
       "      <td>0.000000</td>\n",
       "      <td>0.000000</td>\n",
       "    </tr>\n",
       "    <tr>\n",
       "      <th>25%</th>\n",
       "      <td>3.000000</td>\n",
       "      <td>0.000000</td>\n",
       "      <td>0.000000</td>\n",
       "      <td>4.500000</td>\n",
       "    </tr>\n",
       "    <tr>\n",
       "      <th>50%</th>\n",
       "      <td>7.000000</td>\n",
       "      <td>0.000000</td>\n",
       "      <td>0.000000</td>\n",
       "      <td>8.000000</td>\n",
       "    </tr>\n",
       "    <tr>\n",
       "      <th>75%</th>\n",
       "      <td>10.500000</td>\n",
       "      <td>1.000000</td>\n",
       "      <td>0.000000</td>\n",
       "      <td>12.000000</td>\n",
       "    </tr>\n",
       "    <tr>\n",
       "      <th>max</th>\n",
       "      <td>27.000000</td>\n",
       "      <td>6.000000</td>\n",
       "      <td>1.000000</td>\n",
       "      <td>27.000000</td>\n",
       "    </tr>\n",
       "  </tbody>\n",
       "</table>\n",
       "</div>"
      ],
      "text/plain": [
       "           Fluct         BB       Both      Total\n",
       "count  47.000000  47.000000  47.000000  47.000000\n",
       "mean    7.617021   0.787234   0.170213   8.574468\n",
       "std     5.407536   1.196665   0.379883   5.232610\n",
       "min     0.000000   0.000000   0.000000   0.000000\n",
       "25%     3.000000   0.000000   0.000000   4.500000\n",
       "50%     7.000000   0.000000   0.000000   8.000000\n",
       "75%    10.500000   1.000000   0.000000  12.000000\n",
       "max    27.000000   6.000000   1.000000  27.000000"
      ]
     },
     "execution_count": 13,
     "metadata": {},
     "output_type": "execute_result"
    }
   ],
   "source": [
    "punish_degen.describe()"
   ]
  },
  {
   "cell_type": "code",
   "execution_count": 14,
   "metadata": {
    "collapsed": false
   },
   "outputs": [
    {
     "data": {
      "text/plain": [
       "[0.10869565217391304,\n",
       " 0.30434782608695654,\n",
       " 0.41304347826086957,\n",
       " 0.32608695652173914,\n",
       " 0.43478260869565216,\n",
       " 0.32608695652173908]"
      ]
     },
     "execution_count": 14,
     "metadata": {},
     "output_type": "execute_result"
    }
   ],
   "source": [
    "c_f_ci = bootstrap.ci(data=ctrl_degen['Fluct'], statfunction=scipy.mean, n_samples=10000)\n",
    "c_bb_ci = bootstrap.ci(data=ctrl_degen['BB'], statfunction=scipy.mean, n_samples=10000)\n",
    "c_both_ci = bootstrap.ci(data=ctrl_degen['Both'], statfunction=scipy.mean, n_samples=10000)\n",
    "ctrl_vals = [ctrl_degen['Fluct'].mean(), \n",
    "              ctrl_degen['BB'].mean(), \n",
    "              ctrl_degen['Both'].mean(),\n",
    "              c_f_ci[1]-c_f_ci[0], \n",
    "              c_bb_ci[1]-c_bb_ci[0], \n",
    "              c_both_ci[1]-c_both_ci[0]]\n",
    "ctrl_vals"
   ]
  },
  {
   "cell_type": "code",
   "execution_count": 15,
   "metadata": {
    "collapsed": false
   },
   "outputs": [
    {
     "data": {
      "text/plain": [
       "array([ 0.02173913,  0.34782609])"
      ]
     },
     "execution_count": 15,
     "metadata": {},
     "output_type": "execute_result"
    }
   ],
   "source": [
    "c_f_ci"
   ]
  },
  {
   "cell_type": "code",
   "execution_count": 16,
   "metadata": {
    "collapsed": false
   },
   "outputs": [
    {
     "data": {
      "text/plain": [
       "[2.1666666666666665,\n",
       " 0.5,\n",
       " 0.33333333333333331,\n",
       " 1.7619047619047621,\n",
       " 0.45238095238095244,\n",
       " 0.40476190476190477]"
      ]
     },
     "execution_count": 16,
     "metadata": {},
     "output_type": "execute_result"
    }
   ],
   "source": [
    "n_f_ci = bootstrap.ci(data=noreward_degen['Fluct'], statfunction=scipy.mean, n_samples=10000)\n",
    "n_bb_ci = bootstrap.ci(data=noreward_degen['BB'], statfunction=scipy.mean, n_samples=10000)\n",
    "n_both_ci = bootstrap.ci(data=noreward_degen['Both'], statfunction=scipy.mean, n_samples=10000)\n",
    "noreward_vals = [noreward_degen['Fluct'].mean(), \n",
    "              noreward_degen['BB'].mean(), \n",
    "              noreward_degen['Both'].mean(),\n",
    "              n_f_ci[1]-n_f_ci[0], \n",
    "              n_bb_ci[1]-n_bb_ci[0], \n",
    "              n_both_ci[1]-n_both_ci[0]]\n",
    "noreward_vals"
   ]
  },
  {
   "cell_type": "code",
   "execution_count": 17,
   "metadata": {
    "collapsed": false
   },
   "outputs": [
    {
     "data": {
      "text/plain": [
       "[7.6170212765957448,\n",
       " 0.78723404255319152,\n",
       " 0.1702127659574468,\n",
       " 3.1276595744680851,\n",
       " 0.70212765957446821,\n",
       " 0.21276595744680854]"
      ]
     },
     "execution_count": 17,
     "metadata": {},
     "output_type": "execute_result"
    }
   ],
   "source": [
    "p_f_ci = bootstrap.ci(data=punish_degen['Fluct'], statfunction=scipy.mean, n_samples=10000)\n",
    "p_bb_ci = bootstrap.ci(data=punish_degen['BB'], statfunction=scipy.mean, n_samples=10000)\n",
    "p_both_ci = bootstrap.ci(data=punish_degen['Both'], statfunction=scipy.mean, n_samples=10000)\n",
    "punish_vals = [punish_degen['Fluct'].mean(), \n",
    "              punish_degen['BB'].mean(), \n",
    "              punish_degen['Both'].mean(),\n",
    "              p_f_ci[1]-p_f_ci[0], \n",
    "              p_bb_ci[1]-p_bb_ci[0], \n",
    "              p_both_ci[1]-p_both_ci[0]]\n",
    "punish_vals"
   ]
  },
  {
   "cell_type": "code",
   "execution_count": 18,
   "metadata": {
    "collapsed": false
   },
   "outputs": [
    {
     "data": {
      "image/png": "[encoded data removed]",
      "text/plain": [
       "<matplotlib.figure.Figure at 0x7f1d5db5a8d0>"
      ]
     },
     "metadata": {},
     "output_type": "display_data"
    }
   ],
   "source": [
    "sectioned = pd.DataFrame([ctrl_vals, noreward_vals, punish_vals], \n",
    "                        columns = ['Fluctuating Task Only', 'Backbone Task Only', 'Overlapping Sites', 'fluct_std', 'bb_std', 'both_std'],\n",
    "                        index = ['Control', 'Benign', 'Hostile'])\n",
    "ax = sectioned[['Fluctuating Task Only', 'Backbone Task Only', 'Overlapping Sites']].plot(kind='bar', \n",
    "                                                       yerr=sectioned[['fluct_std','bb_std', 'both_std']].values.T,\n",
    "                                                       alpha = 0.5,\n",
    "                                                       ylim=[0,12],\n",
    "                                                        rot=0,\n",
    "                                                        title=\"Vestigial Sites Count\",\n",
    "                                                       error_kw=dict(ecolor='k'))\n",
    "ax.set_xlabel(\"Treatments\")\n",
    "ax.set_ylabel(\"Sites\")\n",
    "fig = ax.get_figure()\n",
    "fig.savefig(\"vestigial_sites.png\")"
   ]
  },
  {
   "cell_type": "markdown",
   "metadata": {},
   "source": [
    "## Stats for the means\n",
    "    "
   ]
  },
  {
   "cell_type": "code",
   "execution_count": 19,
   "metadata": {
    "collapsed": false
   },
   "outputs": [
    {
     "name": "stdout",
     "output_type": "stream",
     "text": [
      "MWW RankSum P = 1.60204560453e-08\n",
      "MWW RankSum F = -5.65026083327\n"
     ]
    }
   ],
   "source": [
    "z_stat, p_val = stats.ranksums(noreward_degen['Fluct'], punish_degen['Fluct'])\n",
    "print \"MWW RankSum P =\", p_val\n",
    "print \"MWW RankSum F =\", z_stat"
   ]
  },
  {
   "cell_type": "code",
   "execution_count": 20,
   "metadata": {
    "collapsed": false
   },
   "outputs": [
    {
     "name": "stdout",
     "output_type": "stream",
     "text": [
      "MWW RankSum P = 0.300417396919\n",
      "MWW RankSum F = -1.03553871272\n"
     ]
    }
   ],
   "source": [
    "z_stat, p_val = stats.ranksums(noreward_degen['BB'], punish_degen['BB'])\n",
    "print \"MWW RankSum P =\", p_val\n",
    "print \"MWW RankSum F =\", z_stat"
   ]
  },
  {
   "cell_type": "code",
   "execution_count": 21,
   "metadata": {
    "collapsed": false
   },
   "outputs": [
    {
     "name": "stdout",
     "output_type": "stream",
     "text": [
      "MWW RankSum P = 0.516166241134\n",
      "MWW RankSum F = 0.64926633575\n"
     ]
    }
   ],
   "source": [
    "z_stat, p_val = stats.ranksums(noreward_degen['Both'], punish_degen['Both'])\n",
    "print \"MWW RankSum P =\", p_val\n",
    "print \"MWW RankSum F =\", z_stat"
   ]
  },
  {
   "cell_type": "code",
   "execution_count": 22,
   "metadata": {
    "collapsed": false
   },
   "outputs": [
    {
     "name": "stdout",
     "output_type": "stream",
     "text": [
      "One-way ANOVA P = 6.0269978102e-18\n",
      "One-way ANOVA F = 54.3514967208\n"
     ]
    }
   ],
   "source": [
    "f_val, p_val = stats.f_oneway(ctrl_degen['Fluct'], noreward_degen['Fluct'], punish_degen['Fluct'])  \n",
    "  \n",
    "print \"One-way ANOVA P =\", p_val\n",
    "print \"One-way ANOVA F =\", f_val"
   ]
  },
  {
   "cell_type": "code",
   "execution_count": 23,
   "metadata": {
    "collapsed": false
   },
   "outputs": [
    {
     "name": "stdout",
     "output_type": "stream",
     "text": [
      "One-way ANOVA P = 0.0474397518903\n",
      "One-way ANOVA F = 3.11978584489\n"
     ]
    }
   ],
   "source": [
    "f_val, p_val = stats.f_oneway(ctrl_degen['BB'], noreward_degen['BB'], punish_degen['BB'])  \n",
    "  \n",
    "print \"One-way ANOVA P =\", p_val\n",
    "print \"One-way ANOVA F =\", f_val"
   ]
  },
  {
   "cell_type": "code",
   "execution_count": 24,
   "metadata": {
    "collapsed": false
   },
   "outputs": [
    {
     "name": "stdout",
     "output_type": "stream",
     "text": [
      "One-way ANOVA P = 0.105689917309\n",
      "One-way ANOVA F = 2.28594216102\n"
     ]
    }
   ],
   "source": [
    "f_val, p_val = stats.f_oneway(ctrl_degen['Both'], noreward_degen['Both'], punish_degen['Both'])  \n",
    "  \n",
    "print \"One-way ANOVA P =\", p_val\n",
    "print \"One-way ANOVA F =\", f_val"
   ]
  },
  {
   "cell_type": "markdown",
   "metadata": {},
   "source": [
    "## Pulling in the functional site data"
   ]
  },
  {
   "cell_type": "markdown",
   "metadata": {},
   "source": [
    "rosiec@13-42-76:/Volumes/rosiec/__research/devolab_research/evolution_of_modularity/raw_data/082/INTERTWINED/last_common_ancestor_mutation_landscapes$ python ../../../../../scripts/graph_generation/bar_chart_from_csv.py --error --groups 3 --xticks \"Static (control),Benign,Hostile\" --columns \"1,2,3\" --legend \"Fluctuating Task Only,Backbone Task Only,Both Tasks\" --pair --title \"Functional Site Count by Task\n",
    "\n",
    "and Treatment Environment\" --ylabel \"Functional Sites\" --xlabel \"Treatment Environment\" --separator \",\" active_sites__intertwined___nototal.png c*_active_site_count.csv n*_active_site_count.csv p*_active_site_count.csv"
   ]
  },
  {
   "cell_type": "code",
   "execution_count": 25,
   "metadata": {
    "collapsed": false
   },
   "outputs": [
    {
     "name": "stdout",
     "output_type": "stream",
     "text": [
      "\u001b[0m\u001b[01;32mcombined_degenerate_site_and_mutation_landscape_metrics.csv\u001b[0m*\r\n",
      "\u001b[01;32mcombined_degenerate_site_and_mutation_landscape_metrics__2step.csv\u001b[0m*\r\n",
      "\u001b[01;32mcontrol_intertwined__combined_degenerate_site_and_mutation_landscape_metrics.csv\u001b[0m*\r\n",
      "\u001b[01;32mcontrol_intertwined__combined_degenerate_site_and_mutation_landscape_metrics__plus_2step.csv\u001b[0m\u001b[K*\r\n",
      "\u001b[01;32mcontrol_intertwined_active_site_count.csv\u001b[0m*\r\n",
      "control_intertwined_degenerate_site_count.csv\r\n",
      "\u001b[01;32mnoreward_intertwined__combined_degenerate_site_and_mutation_landscape_metrics.csv\u001b[0m\u001b[K*\r\n",
      "\u001b[01;32mnoreward_intertwined__combined_degenerate_site_and_mutation_landscape_metrics__plus_2step.csv\u001b[0m\u001b[K*\r\n",
      "\u001b[01;32mnoreward_intertwined_active_site_count.csv\u001b[0m*\r\n",
      "noreward_intertwined_degenerate_site_count.csv\r\n",
      "\u001b[01;32mpunish_intertwined__combined_degenerate_site_and_mutation_landscape_metrics.csv\u001b[0m*\r\n",
      "\u001b[01;32mpunish_intertwined__combined_degenerate_site_and_mutation_landscape_metrics__plus_2step.csv\u001b[0m\u001b[K*\r\n",
      "\u001b[01;32mpunish_intertwined_active_site_count.csv\u001b[0m*\r\n",
      "punish_intertwined_degenerate_site_count.csv\r\n"
     ]
    }
   ],
   "source": [
    "%ls func_and_vestigial_sites/"
   ]
  },
  {
   "cell_type": "code",
   "execution_count": 26,
   "metadata": {
    "collapsed": false,
    "scrolled": true
   },
   "outputs": [
    {
     "name": "stdout",
     "output_type": "stream",
     "text": [
      "2, 2, 15,19\r\n",
      "2, 2, 17,21\r\n",
      "2, 2, 17,21\r\n",
      "2, 2, 16,20\r\n",
      "3, 1, 17,21\r\n",
      "3, 2, 15,20\r\n",
      "2, 2, 17,21\r\n",
      "2, 0, 16,18\r\n",
      "2, 2, 17,21\r\n",
      "2, 2, 16,20\r\n"
     ]
    }
   ],
   "source": [
    "%cat func_and_vestigial_sites/control_intertwined_active_site_count.csv | head"
   ]
  },
  {
   "cell_type": "code",
   "execution_count": null,
   "metadata": {
    "collapsed": true
   },
   "outputs": [],
   "source": []
  },
  {
   "cell_type": "code",
   "execution_count": 27,
   "metadata": {
    "collapsed": false
   },
   "outputs": [
    {
     "data": {
      "text/html": [
       "<div>\n",
       "<table border=\"1\" class=\"dataframe\">\n",
       "  <thead>\n",
       "    <tr style=\"text-align: right;\">\n",
       "      <th></th>\n",
       "      <th>Fluct</th>\n",
       "      <th>BB</th>\n",
       "      <th>Both</th>\n",
       "      <th>Total</th>\n",
       "    </tr>\n",
       "  </thead>\n",
       "  <tbody>\n",
       "    <tr>\n",
       "      <th>41</th>\n",
       "      <td>6</td>\n",
       "      <td>1</td>\n",
       "      <td>14</td>\n",
       "      <td>21</td>\n",
       "    </tr>\n",
       "    <tr>\n",
       "      <th>42</th>\n",
       "      <td>3</td>\n",
       "      <td>2</td>\n",
       "      <td>15</td>\n",
       "      <td>20</td>\n",
       "    </tr>\n",
       "    <tr>\n",
       "      <th>43</th>\n",
       "      <td>2</td>\n",
       "      <td>0</td>\n",
       "      <td>18</td>\n",
       "      <td>20</td>\n",
       "    </tr>\n",
       "    <tr>\n",
       "      <th>44</th>\n",
       "      <td>2</td>\n",
       "      <td>2</td>\n",
       "      <td>17</td>\n",
       "      <td>21</td>\n",
       "    </tr>\n",
       "    <tr>\n",
       "      <th>45</th>\n",
       "      <td>3</td>\n",
       "      <td>2</td>\n",
       "      <td>16</td>\n",
       "      <td>21</td>\n",
       "    </tr>\n",
       "  </tbody>\n",
       "</table>\n",
       "</div>"
      ],
      "text/plain": [
       "    Fluct  BB  Both  Total\n",
       "41      6   1    14     21\n",
       "42      3   2    15     20\n",
       "43      2   0    18     20\n",
       "44      2   2    17     21\n",
       "45      3   2    16     21"
      ]
     },
     "execution_count": 27,
     "metadata": {},
     "output_type": "execute_result"
    }
   ],
   "source": [
    "ctrl_active=pd.read_csv(\"func_and_vestigial_sites/control_intertwined_active_site_count.csv\", names=header_row)\n",
    "ctrl_active.head()\n",
    "ctrl_active.tail()"
   ]
  },
  {
   "cell_type": "code",
   "execution_count": 28,
   "metadata": {
    "collapsed": false
   },
   "outputs": [
    {
     "data": {
      "text/html": [
       "<div>\n",
       "<table border=\"1\" class=\"dataframe\">\n",
       "  <thead>\n",
       "    <tr style=\"text-align: right;\">\n",
       "      <th></th>\n",
       "      <th>Fluct</th>\n",
       "      <th>BB</th>\n",
       "      <th>Both</th>\n",
       "      <th>Total</th>\n",
       "    </tr>\n",
       "  </thead>\n",
       "  <tbody>\n",
       "    <tr>\n",
       "      <th>37</th>\n",
       "      <td>6</td>\n",
       "      <td>2</td>\n",
       "      <td>15</td>\n",
       "      <td>23</td>\n",
       "    </tr>\n",
       "    <tr>\n",
       "      <th>38</th>\n",
       "      <td>8</td>\n",
       "      <td>1</td>\n",
       "      <td>13</td>\n",
       "      <td>22</td>\n",
       "    </tr>\n",
       "    <tr>\n",
       "      <th>39</th>\n",
       "      <td>2</td>\n",
       "      <td>2</td>\n",
       "      <td>17</td>\n",
       "      <td>21</td>\n",
       "    </tr>\n",
       "    <tr>\n",
       "      <th>40</th>\n",
       "      <td>4</td>\n",
       "      <td>1</td>\n",
       "      <td>16</td>\n",
       "      <td>21</td>\n",
       "    </tr>\n",
       "    <tr>\n",
       "      <th>41</th>\n",
       "      <td>4</td>\n",
       "      <td>1</td>\n",
       "      <td>15</td>\n",
       "      <td>20</td>\n",
       "    </tr>\n",
       "  </tbody>\n",
       "</table>\n",
       "</div>"
      ],
      "text/plain": [
       "    Fluct  BB  Both  Total\n",
       "37      6   2    15     23\n",
       "38      8   1    13     22\n",
       "39      2   2    17     21\n",
       "40      4   1    16     21\n",
       "41      4   1    15     20"
      ]
     },
     "execution_count": 28,
     "metadata": {},
     "output_type": "execute_result"
    }
   ],
   "source": [
    "noreward_active=pd.read_csv(\"func_and_vestigial_sites/noreward_intertwined_active_site_count.csv\", names=header_row)\n",
    "noreward_active.head()\n",
    "noreward_active.tail()"
   ]
  },
  {
   "cell_type": "code",
   "execution_count": 29,
   "metadata": {
    "collapsed": false
   },
   "outputs": [
    {
     "data": {
      "text/html": [
       "<div>\n",
       "<table border=\"1\" class=\"dataframe\">\n",
       "  <thead>\n",
       "    <tr style=\"text-align: right;\">\n",
       "      <th></th>\n",
       "      <th>Fluct</th>\n",
       "      <th>BB</th>\n",
       "      <th>Both</th>\n",
       "      <th>Total</th>\n",
       "    </tr>\n",
       "  </thead>\n",
       "  <tbody>\n",
       "    <tr>\n",
       "      <th>42</th>\n",
       "      <td>10</td>\n",
       "      <td>3</td>\n",
       "      <td>16</td>\n",
       "      <td>29</td>\n",
       "    </tr>\n",
       "    <tr>\n",
       "      <th>43</th>\n",
       "      <td>14</td>\n",
       "      <td>1</td>\n",
       "      <td>18</td>\n",
       "      <td>33</td>\n",
       "    </tr>\n",
       "    <tr>\n",
       "      <th>44</th>\n",
       "      <td>4</td>\n",
       "      <td>2</td>\n",
       "      <td>17</td>\n",
       "      <td>23</td>\n",
       "    </tr>\n",
       "    <tr>\n",
       "      <th>45</th>\n",
       "      <td>3</td>\n",
       "      <td>2</td>\n",
       "      <td>16</td>\n",
       "      <td>21</td>\n",
       "    </tr>\n",
       "    <tr>\n",
       "      <th>46</th>\n",
       "      <td>9</td>\n",
       "      <td>2</td>\n",
       "      <td>17</td>\n",
       "      <td>28</td>\n",
       "    </tr>\n",
       "  </tbody>\n",
       "</table>\n",
       "</div>"
      ],
      "text/plain": [
       "    Fluct  BB  Both  Total\n",
       "42     10   3    16     29\n",
       "43     14   1    18     33\n",
       "44      4   2    17     23\n",
       "45      3   2    16     21\n",
       "46      9   2    17     28"
      ]
     },
     "execution_count": 29,
     "metadata": {},
     "output_type": "execute_result"
    }
   ],
   "source": [
    "punish_active=pd.read_csv(\"func_and_vestigial_sites/punish_intertwined_active_site_count.csv\", names=header_row)\n",
    "punish_active.head()\n",
    "punish_active.tail()"
   ]
  },
  {
   "cell_type": "code",
   "execution_count": null,
   "metadata": {
    "collapsed": true
   },
   "outputs": [],
   "source": []
  },
  {
   "cell_type": "code",
   "execution_count": 30,
   "metadata": {
    "collapsed": false
   },
   "outputs": [
    {
     "data": {
      "text/plain": [
       "[2.5,\n",
       " 1.673913043478261,\n",
       " 16.173913043478262,\n",
       " 0.71739130434782616,\n",
       " 0.47826086956521752,\n",
       " 0.67391304347825987]"
      ]
     },
     "execution_count": 30,
     "metadata": {},
     "output_type": "execute_result"
    }
   ],
   "source": [
    "c_f_ci = bootstrap.ci(data=ctrl_active['Fluct'], statfunction=scipy.mean, n_samples=10000)\n",
    "c_bb_ci = bootstrap.ci(data=ctrl_active['BB'], statfunction=scipy.mean, n_samples=10000)\n",
    "c_both_ci = bootstrap.ci(data=ctrl_active['Both'], statfunction=scipy.mean, n_samples=10000)\n",
    "ctrl_vals = [ctrl_active['Fluct'].mean(), \n",
    "              ctrl_active['BB'].mean(), \n",
    "              ctrl_active['Both'].mean(),\n",
    "              c_f_ci[1]-c_f_ci[0], \n",
    "              c_bb_ci[1]-c_bb_ci[0], \n",
    "              c_both_ci[1]-c_both_ci[0]]\n",
    "ctrl_vals"
   ]
  },
  {
   "cell_type": "code",
   "execution_count": 31,
   "metadata": {
    "collapsed": false
   },
   "outputs": [
    {
     "data": {
      "text/plain": [
       "[5.6190476190476186,\n",
       " 1.5238095238095237,\n",
       " 15.857142857142858,\n",
       " 1.7380952380952381,\n",
       " 0.61904761904761907,\n",
       " 0.76190476190476097]"
      ]
     },
     "execution_count": 31,
     "metadata": {},
     "output_type": "execute_result"
    }
   ],
   "source": [
    "n_f_ci = bootstrap.ci(data=noreward_active['Fluct'], statfunction=scipy.mean, n_samples=10000)\n",
    "n_bb_ci = bootstrap.ci(data=noreward_active['BB'], statfunction=scipy.mean, n_samples=10000)\n",
    "n_both_ci = bootstrap.ci(data=noreward_active['Both'], statfunction=scipy.mean, n_samples=10000)\n",
    "noreward_vals = [noreward_active['Fluct'].mean(), \n",
    "              noreward_active['BB'].mean(), \n",
    "              noreward_active['Both'].mean(),\n",
    "              n_f_ci[1]-n_f_ci[0], \n",
    "              n_bb_ci[1]-n_bb_ci[0], \n",
    "              n_both_ci[1]-n_both_ci[0]]\n",
    "noreward_vals"
   ]
  },
  {
   "cell_type": "code",
   "execution_count": 32,
   "metadata": {
    "collapsed": false
   },
   "outputs": [
    {
     "data": {
      "text/plain": [
       "[8.5957446808510642,\n",
       " 2.9361702127659575,\n",
       " 14.319148936170214,\n",
       " 2.4680851063829783,\n",
       " 2.2765957446808507,\n",
       " 2.6170212765957448]"
      ]
     },
     "execution_count": 32,
     "metadata": {},
     "output_type": "execute_result"
    }
   ],
   "source": [
    "p_f_ci = bootstrap.ci(data=punish_active['Fluct'], statfunction=scipy.mean, n_samples=10000)\n",
    "p_bb_ci = bootstrap.ci(data=punish_active['BB'], statfunction=scipy.mean, n_samples=10000)\n",
    "p_both_ci = bootstrap.ci(data=punish_active['Both'], statfunction=scipy.mean, n_samples=10000)\n",
    "punish_vals = [punish_active['Fluct'].mean(), \n",
    "              punish_active['BB'].mean(), \n",
    "              punish_active['Both'].mean(),\n",
    "              p_f_ci[1]-p_f_ci[0], \n",
    "              p_bb_ci[1]-p_bb_ci[0], \n",
    "              p_both_ci[1]-p_both_ci[0]]\n",
    "punish_vals"
   ]
  },
  {
   "cell_type": "code",
   "execution_count": 33,
   "metadata": {
    "collapsed": false
   },
   "outputs": [
    {
     "data": {
      "image/png": "[encoded data removed]",
      "text/plain": [
       "<matplotlib.figure.Figure at 0x7f1d842dd050>"
      ]
     },
     "metadata": {},
     "output_type": "display_data"
    }
   ],
   "source": [
    "sectioned = pd.DataFrame([ctrl_vals, noreward_vals, punish_vals], \n",
    "                        columns = ['Fluctuating Task Only', 'Backbone Task Only', 'Overlapping Sites', 'fluct_std', 'bb_std', 'both_std'],\n",
    "                        index = ['Control', 'Benign', 'Hostile'])\n",
    "ax = sectioned[['Fluctuating Task Only', 'Backbone Task Only', 'Overlapping Sites']].plot(kind='bar', \n",
    "                                                       yerr=sectioned[['fluct_std','bb_std', 'both_std']].values.T,\n",
    "                                                       alpha = 0.5,\n",
    "                                                       #ylim=[0,18],\n",
    "                                                        rot=0,\n",
    "                                                        title=\"Functional Sites Count\",\n",
    "                                                       error_kw=dict(ecolor='k'))\n",
    "ax.set_xlabel(\"Treatments\")\n",
    "ax.set_ylabel(\"Sites\")\n",
    "fig = ax.get_figure()\n",
    "fig.savefig(\"active_sites.png\")"
   ]
  },
  {
   "cell_type": "markdown",
   "metadata": {
    "collapsed": true
   },
   "source": [
    "## Lost and Regained Tasks\n",
    "\n",
    "rosiec@Loki:/Volumes/rosiec/__research/devolab_research/evolution_of_modularity/raw_data/082/INTERTWINED/last_common_ancestor_mutation_landscapes$ python ../../../../../scripts/graph_generation/bar_chart_from_csv.py \n",
    "--groups 3 \n",
    "--xticks \"Control,Benign,Hostile\" \n",
    "--columns \"3\" \n",
    "--pair \n",
    "--title \"Fraction of Second-step Mutants that Regained Fluctuating Task\" \n",
    "--ylabel \"Fraction\" \n",
    "--xlabel \"Treatment\" \n",
    "--separator \",\" \n",
    "--error \n",
    "--show twostep_does_fluct.png \n",
    "c*_*/mutation_landscape_metrics.csv \n",
    "n*_*/mutation_landscape_metrics.csv \n",
    "p*_*/mutation_landscape_metrics.csv &\n",
    "\n",
    "rosiec@Loki:/Volumes/rosiec/__research/devolab_research/evolution_of_modularity/raw_data/085$ python ../../../scripts/graph_generation/bar_chart_from_csv.py \n",
    "--groups 3 \n",
    "--xticks \"Control,Control,Hostile\" \n",
    "--columns \"3\" \n",
    "--pair --title \"Fraction of Second-step Mutants that Regained Fluctuating Task\" \n",
    "--ylabel \"Fraction\" --xlabel \"Treatment\" --separator \",\" --show --error \n",
    "two_step__regained_fluct.png \n",
    "c*_i/mutation_landscape_metrics.csv \n",
    "n*_i/mutation_landscape_metrics.csv \n",
    "p*_i/mutation_landscape_metrics.csv &\n"
   ]
  },
  {
   "cell_type": "code",
   "execution_count": 43,
   "metadata": {
    "collapsed": false
   },
   "outputs": [
    {
     "name": "stdout",
     "output_type": "stream",
     "text": [
      "Changing Environments - Functional and Vestigial Sites.ipynb\r\n",
      "Stats for Sexual Selection Significance.ipynb\r\n",
      "\u001b[0m\u001b[01;35mactive_sites.png\u001b[0m\r\n",
      "c_i_mutation_landscape_metrics.csv\r\n",
      "\u001b[01;34mfunc_and_vestigial_sites\u001b[0m/\r\n",
      "n_i_mutation_landscape_metrics.csv\r\n",
      "p_i_mutation_landscape_metrics.csv\r\n",
      "recomb_viab.sh\r\n",
      "\u001b[01;35mvestigial_sites.png\u001b[0m\r\n"
     ]
    }
   ],
   "source": [
    "%ls "
   ]
  },
  {
   "cell_type": "code",
   "execution_count": 44,
   "metadata": {
    "collapsed": false
   },
   "outputs": [
    {
     "name": "stdout",
     "output_type": "stream",
     "text": [
      "0.865866028076,0.737409748105,0.0028568513417,0.000960286165277,0.128456279971,0.0028568513417,0.00189656517642,0.0,0.0028568513417,0.0,0.128456279971,0.0,0.0,0.0,0.00189656517642\r\n",
      "0.776910519335,0.65141312111,0.00225104581165,0.000452759922457,0.125497398225,0.00225104581165,0.00179828588919,0.0,0.00225104581165,0.0,0.125497398225,0.0,0.0,0.0,0.00179828588919\r\n",
      "0.771550144165,0.64508156764,0.00913361070488,0.00600845718691,0.126468576525,0.00913361070488,0.00312515351797,0.0,0.00913361070488,0.0,0.126468576525,0.0,0.0,0.0,0.00312515351797\r\n",
      "0.694860329248,0.568624319612,0.00206278862405,0.000405903567959,0.126236009635,0.00206278862405,0.00165688505609,0.0,0.00206278862405,0.0,0.126236009635,0.0,0.0,0.0,0.00165688505609\r\n",
      "0.847505356596,0.706954392409,0.00170798898072,0.000814202632384,0.140550964187,0.00170798898072,0.000893786348332,0.0,0.00170798898072,0.0,0.140550964187,0.0,0.0,0.0,0.000893786348332\r\n",
      "0.867523722069,0.742118151209,0.00271196816651,0.000765228037955,0.12540557086,0.00271196816651,0.00194674012856,0.0,0.00271196816651,0.0,0.12540557086,0.0,0.0,0.0,0.00194674012856\r\n",
      "0.806712400295,0.677583920008,0.00213063492921,0.00154846144151,0.129128480287,0.00213063492921,0.000582173487699,0.0,0.00213063492921,0.0,0.129128480287,0.0,0.0,0.0,0.000582173487699\r\n",
      "0.766974263248,0.638345702429,0.00491251310923,0.00189676195637,0.128628560819,0.00491251310923,0.00301575115286,0.0,0.00491251310923,0.0,0.128628560819,0.0,0.0,0.0,0.00301575115286\r\n",
      "0.857611199716,0.729318705395,0.00211847341034,0.00186876741901,0.128292494321,0.00211847341034,0.000249705991333,0.0,0.00211847341034,0.0,0.128292494321,0.0,0.0,0.0,0.000249705991333\r\n",
      "0.781463365879,0.644465683427,0.00161166394933,0.000974494480988,0.136997682452,0.00161166394933,0.000637169468338,0.0,0.00161166394933,0.0,0.136997682452,0.0,0.0,0.0,0.000637169468338\r\n"
     ]
    }
   ],
   "source": [
    "% cat c_i_mutation_landscape_metrics.csv| head"
   ]
  },
  {
   "cell_type": "code",
   "execution_count": 45,
   "metadata": {
    "collapsed": true
   },
   "outputs": [],
   "source": [
    "landscape_header= [\"FracViable\", \n",
    "                   \"FracDoesTask1\", \n",
    "                   \"FracDoesTask2\", \n",
    "                   \"FracDoesBoth\", \n",
    "                   \"FracChangedTask1\", \n",
    "                   \"FracChangedTask2\", \n",
    "                   \"FracChangedBoth\",\n",
    "                    \"frac_gained_task1\",\n",
    "                    \"frac_gained_task2\",\n",
    "                    \"frac_gained_both\",\n",
    "                    \"frac_lost_task1\",\n",
    "                    \"frac_lost_task2\",\n",
    "                    \"frac_lost_both\",\n",
    "                    \"frac_gained_task1_lost_task2\",\n",
    "                    \"frac_lost_task1_gained_task2\"]\n"
   ]
  },
  {
   "cell_type": "code",
   "execution_count": 46,
   "metadata": {
    "collapsed": false
   },
   "outputs": [
    {
     "data": {
      "text/html": [
       "<div>\n",
       "<table border=\"1\" class=\"dataframe\">\n",
       "  <thead>\n",
       "    <tr style=\"text-align: right;\">\n",
       "      <th></th>\n",
       "      <th></th>\n",
       "      <th></th>\n",
       "      <th></th>\n",
       "      <th></th>\n",
       "      <th></th>\n",
       "      <th></th>\n",
       "      <th></th>\n",
       "      <th>FracViable</th>\n",
       "      <th>FracDoesTask1</th>\n",
       "      <th>FracDoesTask2</th>\n",
       "      <th>FracDoesBoth</th>\n",
       "      <th>FracChangedTask1</th>\n",
       "      <th>FracChangedTask2</th>\n",
       "      <th>FracChangedBoth</th>\n",
       "    </tr>\n",
       "  </thead>\n",
       "  <tbody>\n",
       "    <tr>\n",
       "      <th>0.874840</th>\n",
       "      <th>0.733217</th>\n",
       "      <th>0.002919</th>\n",
       "      <th>0.001615</th>\n",
       "      <th>0.141623</th>\n",
       "      <th>0.002919</th>\n",
       "      <th>0.001304</th>\n",
       "      <th>0</th>\n",
       "      <td>0.002919</td>\n",
       "      <td>0</td>\n",
       "      <td>0.141623</td>\n",
       "      <td>0</td>\n",
       "      <td>0</td>\n",
       "      <td>0</td>\n",
       "      <td>0.001304</td>\n",
       "    </tr>\n",
       "    <tr>\n",
       "      <th>0.843728</th>\n",
       "      <th>0.712691</th>\n",
       "      <th>0.002351</th>\n",
       "      <th>0.000410</th>\n",
       "      <th>0.131038</th>\n",
       "      <th>0.002351</th>\n",
       "      <th>0.001941</th>\n",
       "      <th>0</th>\n",
       "      <td>0.002351</td>\n",
       "      <td>0</td>\n",
       "      <td>0.131038</td>\n",
       "      <td>0</td>\n",
       "      <td>0</td>\n",
       "      <td>0</td>\n",
       "      <td>0.001941</td>\n",
       "    </tr>\n",
       "    <tr>\n",
       "      <th>0.864956</th>\n",
       "      <th>0.744615</th>\n",
       "      <th>0.007045</th>\n",
       "      <th>0.006088</th>\n",
       "      <th>0.120342</th>\n",
       "      <th>0.007045</th>\n",
       "      <th>0.000957</th>\n",
       "      <th>0</th>\n",
       "      <td>0.007045</td>\n",
       "      <td>0</td>\n",
       "      <td>0.120342</td>\n",
       "      <td>0</td>\n",
       "      <td>0</td>\n",
       "      <td>0</td>\n",
       "      <td>0.000957</td>\n",
       "    </tr>\n",
       "    <tr>\n",
       "      <th>0.867634</th>\n",
       "      <th>0.736639</th>\n",
       "      <th>0.002669</th>\n",
       "      <th>0.000716</th>\n",
       "      <th>0.130995</th>\n",
       "      <th>0.002669</th>\n",
       "      <th>0.001953</th>\n",
       "      <th>0</th>\n",
       "      <td>0.002669</td>\n",
       "      <td>0</td>\n",
       "      <td>0.130995</td>\n",
       "      <td>0</td>\n",
       "      <td>0</td>\n",
       "      <td>0</td>\n",
       "      <td>0.001953</td>\n",
       "    </tr>\n",
       "    <tr>\n",
       "      <th>0.799146</th>\n",
       "      <th>0.684869</th>\n",
       "      <th>0.002384</th>\n",
       "      <th>0.000788</th>\n",
       "      <th>0.114276</th>\n",
       "      <th>0.002384</th>\n",
       "      <th>0.001596</th>\n",
       "      <th>0</th>\n",
       "      <td>0.002384</td>\n",
       "      <td>0</td>\n",
       "      <td>0.114276</td>\n",
       "      <td>0</td>\n",
       "      <td>0</td>\n",
       "      <td>0</td>\n",
       "      <td>0.001596</td>\n",
       "    </tr>\n",
       "  </tbody>\n",
       "</table>\n",
       "</div>"
      ],
      "text/plain": [
       "                                                                  FracViable  \\\n",
       "0.874840 0.733217 0.002919 0.001615 0.141623 0.002919 0.001304 0    0.002919   \n",
       "0.843728 0.712691 0.002351 0.000410 0.131038 0.002351 0.001941 0    0.002351   \n",
       "0.864956 0.744615 0.007045 0.006088 0.120342 0.007045 0.000957 0    0.007045   \n",
       "0.867634 0.736639 0.002669 0.000716 0.130995 0.002669 0.001953 0    0.002669   \n",
       "0.799146 0.684869 0.002384 0.000788 0.114276 0.002384 0.001596 0    0.002384   \n",
       "\n",
       "                                                                  FracDoesTask1  \\\n",
       "0.874840 0.733217 0.002919 0.001615 0.141623 0.002919 0.001304 0              0   \n",
       "0.843728 0.712691 0.002351 0.000410 0.131038 0.002351 0.001941 0              0   \n",
       "0.864956 0.744615 0.007045 0.006088 0.120342 0.007045 0.000957 0              0   \n",
       "0.867634 0.736639 0.002669 0.000716 0.130995 0.002669 0.001953 0              0   \n",
       "0.799146 0.684869 0.002384 0.000788 0.114276 0.002384 0.001596 0              0   \n",
       "\n",
       "                                                                  FracDoesTask2  \\\n",
       "0.874840 0.733217 0.002919 0.001615 0.141623 0.002919 0.001304 0       0.141623   \n",
       "0.843728 0.712691 0.002351 0.000410 0.131038 0.002351 0.001941 0       0.131038   \n",
       "0.864956 0.744615 0.007045 0.006088 0.120342 0.007045 0.000957 0       0.120342   \n",
       "0.867634 0.736639 0.002669 0.000716 0.130995 0.002669 0.001953 0       0.130995   \n",
       "0.799146 0.684869 0.002384 0.000788 0.114276 0.002384 0.001596 0       0.114276   \n",
       "\n",
       "                                                                  FracDoesBoth  \\\n",
       "0.874840 0.733217 0.002919 0.001615 0.141623 0.002919 0.001304 0             0   \n",
       "0.843728 0.712691 0.002351 0.000410 0.131038 0.002351 0.001941 0             0   \n",
       "0.864956 0.744615 0.007045 0.006088 0.120342 0.007045 0.000957 0             0   \n",
       "0.867634 0.736639 0.002669 0.000716 0.130995 0.002669 0.001953 0             0   \n",
       "0.799146 0.684869 0.002384 0.000788 0.114276 0.002384 0.001596 0             0   \n",
       "\n",
       "                                                                  FracChangedTask1  \\\n",
       "0.874840 0.733217 0.002919 0.001615 0.141623 0.002919 0.001304 0                 0   \n",
       "0.843728 0.712691 0.002351 0.000410 0.131038 0.002351 0.001941 0                 0   \n",
       "0.864956 0.744615 0.007045 0.006088 0.120342 0.007045 0.000957 0                 0   \n",
       "0.867634 0.736639 0.002669 0.000716 0.130995 0.002669 0.001953 0                 0   \n",
       "0.799146 0.684869 0.002384 0.000788 0.114276 0.002384 0.001596 0                 0   \n",
       "\n",
       "                                                                  FracChangedTask2  \\\n",
       "0.874840 0.733217 0.002919 0.001615 0.141623 0.002919 0.001304 0                 0   \n",
       "0.843728 0.712691 0.002351 0.000410 0.131038 0.002351 0.001941 0                 0   \n",
       "0.864956 0.744615 0.007045 0.006088 0.120342 0.007045 0.000957 0                 0   \n",
       "0.867634 0.736639 0.002669 0.000716 0.130995 0.002669 0.001953 0                 0   \n",
       "0.799146 0.684869 0.002384 0.000788 0.114276 0.002384 0.001596 0                 0   \n",
       "\n",
       "                                                                  FracChangedBoth  \n",
       "0.874840 0.733217 0.002919 0.001615 0.141623 0.002919 0.001304 0         0.001304  \n",
       "0.843728 0.712691 0.002351 0.000410 0.131038 0.002351 0.001941 0         0.001941  \n",
       "0.864956 0.744615 0.007045 0.006088 0.120342 0.007045 0.000957 0         0.000957  \n",
       "0.867634 0.736639 0.002669 0.000716 0.130995 0.002669 0.001953 0         0.001953  \n",
       "0.799146 0.684869 0.002384 0.000788 0.114276 0.002384 0.001596 0         0.001596  "
      ]
     },
     "execution_count": 46,
     "metadata": {},
     "output_type": "execute_result"
    }
   ],
   "source": [
    "c_i_landscape=pd.read_csv(\"c_i_mutation_landscape_metrics.csv\", names=landscape_header)\n",
    "c_i_landscape.head()\n",
    "c_i_landscape.tail()"
   ]
  },
  {
   "cell_type": "code",
   "execution_count": null,
   "metadata": {
    "collapsed": true
   },
   "outputs": [],
   "source": []
  }
 ],
 "metadata": {
  "kernelspec": {
   "display_name": "Python 2",
   "language": "python2",
   "name": "python2"
  },
  "language_info": {
   "codemirror_mode": {
    "name": "ipython",
    "version": 2
   },
   "file_extension": ".py",
   "mimetype": "text/x-python",
   "name": "python",
   "nbconvert_exporter": "python",
   "pygments_lexer": "ipython2",
   "version": "2.7.10"
  }
 },
 "nbformat": 4,
 "nbformat_minor": 0
}
